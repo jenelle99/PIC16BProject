{
 "cells": [
  {
   "cell_type": "markdown",
   "metadata": {},
   "source": [
    "# Project Presentation"
   ]
  },
  {
   "cell_type": "markdown",
   "metadata": {},
   "source": [
    "## Aim of the Project:\n",
    "As a group, we are planning on developing a platform that identifies mental health disorders according to symptoms provided by the patient. Our platform will help classify mental disorders and support the clinician with diagnosing the mental health disorder. Also, it may raise awareness and encourage people to seek help. We will work with a large dataset with multiple variables, which will be eventually evaluated by a machine learning algorithm.\n",
    "\n",
    "## Project Deliverables:\n",
    "We aim to create a machine learning application to help diagnose mental disorders. We will provide a machine learning model to develop an indicator or classifier to determine the mental health state of a person to support early detection. We will analyze the given data to finally make a code that shows data set of results.\n",
    "\n",
    "If our project leads to a \"Full success\", our model will be used to detect a mental disorder from several features or states of a person. In this case, since we plan to create a code for a data set, Jupyter Notebook will be an appropriate interface.\n",
    "\n",
    "On the other hand, if we happen to come up with a \"Partial success\", we will be at least able to show several relationships between features; for example, how an willingness to seek help from psychologists is related to a satisfaction with life? In this case, we will deliver data analysis in code, therefore a Jupyter Notebook will be an appropriate interface."
   ]
  },
  {
   "cell_type": "markdown",
   "metadata": {},
   "source": [
    "## Data Acquisition & Preparation"
   ]
  },
  {
   "cell_type": "code",
   "execution_count": 24,
   "metadata": {},
   "outputs": [],
   "source": [
    "import numpy as np\n",
    "import pandas as pd\n",
    "from matplotlib import pyplot as plt\n",
    "import plotly.express as px\n",
    "import matplotlib.pyplot as plt\n",
    "import tensorflow as tf\n",
    "from tensorflow.keras import layers, models\n",
    "from sklearn.model_selection import train_test_split"
   ]
  },
  {
   "cell_type": "code",
   "execution_count": 45,
   "metadata": {},
   "outputs": [
    {
     "data": {
      "text/html": [
       "<div>\n",
       "<style scoped>\n",
       "    .dataframe tbody tr th:only-of-type {\n",
       "        vertical-align: middle;\n",
       "    }\n",
       "\n",
       "    .dataframe tbody tr th {\n",
       "        vertical-align: top;\n",
       "    }\n",
       "\n",
       "    .dataframe thead th {\n",
       "        text-align: right;\n",
       "    }\n",
       "</style>\n",
       "<table border=\"1\" class=\"dataframe\">\n",
       "  <thead>\n",
       "    <tr style=\"text-align: right;\">\n",
       "      <th></th>\n",
       "      <th>YEAR</th>\n",
       "      <th>AGE</th>\n",
       "      <th>EDUC</th>\n",
       "      <th>ETHNIC</th>\n",
       "      <th>RACE</th>\n",
       "      <th>GENDER</th>\n",
       "      <th>SPHSERVICE</th>\n",
       "      <th>CMPSERVICE</th>\n",
       "      <th>OPISERVICE</th>\n",
       "      <th>RTCSERVICE</th>\n",
       "      <th>...</th>\n",
       "      <th>ODDFLG</th>\n",
       "      <th>PDDFLG</th>\n",
       "      <th>PERSONFLG</th>\n",
       "      <th>SCHIZOFLG</th>\n",
       "      <th>ALCSUBFLG</th>\n",
       "      <th>OTHERDISFLG</th>\n",
       "      <th>STATEFIP</th>\n",
       "      <th>DIVISION</th>\n",
       "      <th>REGION</th>\n",
       "      <th>CASEID</th>\n",
       "    </tr>\n",
       "  </thead>\n",
       "  <tbody>\n",
       "    <tr>\n",
       "      <th>0</th>\n",
       "      <td>2019.0</td>\n",
       "      <td>NaN</td>\n",
       "      <td>NaN</td>\n",
       "      <td>4.0</td>\n",
       "      <td>2.0</td>\n",
       "      <td>1.0</td>\n",
       "      <td>2.0</td>\n",
       "      <td>1.0</td>\n",
       "      <td>2.0</td>\n",
       "      <td>2.0</td>\n",
       "      <td>...</td>\n",
       "      <td>0.0</td>\n",
       "      <td>0.0</td>\n",
       "      <td>0.0</td>\n",
       "      <td>0.0</td>\n",
       "      <td>0.0</td>\n",
       "      <td>1.0</td>\n",
       "      <td>1.0</td>\n",
       "      <td>6.0</td>\n",
       "      <td>3.0</td>\n",
       "      <td>2.019000e+10</td>\n",
       "    </tr>\n",
       "    <tr>\n",
       "      <th>1</th>\n",
       "      <td>2019.0</td>\n",
       "      <td>14.0</td>\n",
       "      <td>4.0</td>\n",
       "      <td>4.0</td>\n",
       "      <td>6.0</td>\n",
       "      <td>2.0</td>\n",
       "      <td>1.0</td>\n",
       "      <td>2.0</td>\n",
       "      <td>2.0</td>\n",
       "      <td>2.0</td>\n",
       "      <td>...</td>\n",
       "      <td>0.0</td>\n",
       "      <td>0.0</td>\n",
       "      <td>0.0</td>\n",
       "      <td>0.0</td>\n",
       "      <td>0.0</td>\n",
       "      <td>0.0</td>\n",
       "      <td>1.0</td>\n",
       "      <td>6.0</td>\n",
       "      <td>3.0</td>\n",
       "      <td>2.019000e+10</td>\n",
       "    </tr>\n",
       "    <tr>\n",
       "      <th>2</th>\n",
       "      <td>2019.0</td>\n",
       "      <td>12.0</td>\n",
       "      <td>NaN</td>\n",
       "      <td>4.0</td>\n",
       "      <td>3.0</td>\n",
       "      <td>2.0</td>\n",
       "      <td>1.0</td>\n",
       "      <td>1.0</td>\n",
       "      <td>2.0</td>\n",
       "      <td>2.0</td>\n",
       "      <td>...</td>\n",
       "      <td>0.0</td>\n",
       "      <td>0.0</td>\n",
       "      <td>0.0</td>\n",
       "      <td>1.0</td>\n",
       "      <td>0.0</td>\n",
       "      <td>0.0</td>\n",
       "      <td>1.0</td>\n",
       "      <td>6.0</td>\n",
       "      <td>3.0</td>\n",
       "      <td>2.019000e+10</td>\n",
       "    </tr>\n",
       "    <tr>\n",
       "      <th>3</th>\n",
       "      <td>2019.0</td>\n",
       "      <td>10.0</td>\n",
       "      <td>NaN</td>\n",
       "      <td>4.0</td>\n",
       "      <td>5.0</td>\n",
       "      <td>2.0</td>\n",
       "      <td>1.0</td>\n",
       "      <td>1.0</td>\n",
       "      <td>1.0</td>\n",
       "      <td>2.0</td>\n",
       "      <td>...</td>\n",
       "      <td>0.0</td>\n",
       "      <td>0.0</td>\n",
       "      <td>0.0</td>\n",
       "      <td>1.0</td>\n",
       "      <td>0.0</td>\n",
       "      <td>0.0</td>\n",
       "      <td>1.0</td>\n",
       "      <td>6.0</td>\n",
       "      <td>3.0</td>\n",
       "      <td>2.019000e+10</td>\n",
       "    </tr>\n",
       "    <tr>\n",
       "      <th>4</th>\n",
       "      <td>2019.0</td>\n",
       "      <td>2.0</td>\n",
       "      <td>2.0</td>\n",
       "      <td>4.0</td>\n",
       "      <td>5.0</td>\n",
       "      <td>2.0</td>\n",
       "      <td>1.0</td>\n",
       "      <td>1.0</td>\n",
       "      <td>2.0</td>\n",
       "      <td>2.0</td>\n",
       "      <td>...</td>\n",
       "      <td>0.0</td>\n",
       "      <td>0.0</td>\n",
       "      <td>0.0</td>\n",
       "      <td>0.0</td>\n",
       "      <td>0.0</td>\n",
       "      <td>0.0</td>\n",
       "      <td>1.0</td>\n",
       "      <td>6.0</td>\n",
       "      <td>3.0</td>\n",
       "      <td>2.019000e+10</td>\n",
       "    </tr>\n",
       "    <tr>\n",
       "      <th>...</th>\n",
       "      <td>...</td>\n",
       "      <td>...</td>\n",
       "      <td>...</td>\n",
       "      <td>...</td>\n",
       "      <td>...</td>\n",
       "      <td>...</td>\n",
       "      <td>...</td>\n",
       "      <td>...</td>\n",
       "      <td>...</td>\n",
       "      <td>...</td>\n",
       "      <td>...</td>\n",
       "      <td>...</td>\n",
       "      <td>...</td>\n",
       "      <td>...</td>\n",
       "      <td>...</td>\n",
       "      <td>...</td>\n",
       "      <td>...</td>\n",
       "      <td>...</td>\n",
       "      <td>...</td>\n",
       "      <td>...</td>\n",
       "      <td>...</td>\n",
       "    </tr>\n",
       "    <tr>\n",
       "      <th>6362039</th>\n",
       "      <td>2019.0</td>\n",
       "      <td>5.0</td>\n",
       "      <td>NaN</td>\n",
       "      <td>4.0</td>\n",
       "      <td>5.0</td>\n",
       "      <td>1.0</td>\n",
       "      <td>2.0</td>\n",
       "      <td>1.0</td>\n",
       "      <td>2.0</td>\n",
       "      <td>2.0</td>\n",
       "      <td>...</td>\n",
       "      <td>0.0</td>\n",
       "      <td>0.0</td>\n",
       "      <td>0.0</td>\n",
       "      <td>0.0</td>\n",
       "      <td>0.0</td>\n",
       "      <td>0.0</td>\n",
       "      <td>99.0</td>\n",
       "      <td>0.0</td>\n",
       "      <td>0.0</td>\n",
       "      <td>2.019636e+10</td>\n",
       "    </tr>\n",
       "    <tr>\n",
       "      <th>6362040</th>\n",
       "      <td>2019.0</td>\n",
       "      <td>4.0</td>\n",
       "      <td>4.0</td>\n",
       "      <td>4.0</td>\n",
       "      <td>6.0</td>\n",
       "      <td>1.0</td>\n",
       "      <td>2.0</td>\n",
       "      <td>1.0</td>\n",
       "      <td>2.0</td>\n",
       "      <td>2.0</td>\n",
       "      <td>...</td>\n",
       "      <td>0.0</td>\n",
       "      <td>0.0</td>\n",
       "      <td>0.0</td>\n",
       "      <td>0.0</td>\n",
       "      <td>0.0</td>\n",
       "      <td>0.0</td>\n",
       "      <td>99.0</td>\n",
       "      <td>0.0</td>\n",
       "      <td>0.0</td>\n",
       "      <td>2.019636e+10</td>\n",
       "    </tr>\n",
       "    <tr>\n",
       "      <th>6362041</th>\n",
       "      <td>2019.0</td>\n",
       "      <td>8.0</td>\n",
       "      <td>1.0</td>\n",
       "      <td>4.0</td>\n",
       "      <td>2.0</td>\n",
       "      <td>1.0</td>\n",
       "      <td>2.0</td>\n",
       "      <td>1.0</td>\n",
       "      <td>2.0</td>\n",
       "      <td>2.0</td>\n",
       "      <td>...</td>\n",
       "      <td>0.0</td>\n",
       "      <td>0.0</td>\n",
       "      <td>0.0</td>\n",
       "      <td>1.0</td>\n",
       "      <td>0.0</td>\n",
       "      <td>0.0</td>\n",
       "      <td>99.0</td>\n",
       "      <td>0.0</td>\n",
       "      <td>0.0</td>\n",
       "      <td>2.019636e+10</td>\n",
       "    </tr>\n",
       "    <tr>\n",
       "      <th>6362042</th>\n",
       "      <td>2019.0</td>\n",
       "      <td>11.0</td>\n",
       "      <td>4.0</td>\n",
       "      <td>4.0</td>\n",
       "      <td>4.0</td>\n",
       "      <td>1.0</td>\n",
       "      <td>2.0</td>\n",
       "      <td>1.0</td>\n",
       "      <td>2.0</td>\n",
       "      <td>2.0</td>\n",
       "      <td>...</td>\n",
       "      <td>0.0</td>\n",
       "      <td>0.0</td>\n",
       "      <td>0.0</td>\n",
       "      <td>0.0</td>\n",
       "      <td>0.0</td>\n",
       "      <td>0.0</td>\n",
       "      <td>99.0</td>\n",
       "      <td>0.0</td>\n",
       "      <td>0.0</td>\n",
       "      <td>2.019636e+10</td>\n",
       "    </tr>\n",
       "    <tr>\n",
       "      <th>6362043</th>\n",
       "      <td>2019.0</td>\n",
       "      <td>14.0</td>\n",
       "      <td>NaN</td>\n",
       "      <td>4.0</td>\n",
       "      <td>2.0</td>\n",
       "      <td>2.0</td>\n",
       "      <td>2.0</td>\n",
       "      <td>1.0</td>\n",
       "      <td>2.0</td>\n",
       "      <td>2.0</td>\n",
       "      <td>...</td>\n",
       "      <td>0.0</td>\n",
       "      <td>0.0</td>\n",
       "      <td>1.0</td>\n",
       "      <td>0.0</td>\n",
       "      <td>0.0</td>\n",
       "      <td>1.0</td>\n",
       "      <td>99.0</td>\n",
       "      <td>0.0</td>\n",
       "      <td>0.0</td>\n",
       "      <td>2.019636e+10</td>\n",
       "    </tr>\n",
       "  </tbody>\n",
       "</table>\n",
       "<p>6362044 rows × 40 columns</p>\n",
       "</div>"
      ],
      "text/plain": [
       "           YEAR   AGE  EDUC  ETHNIC  RACE  GENDER  SPHSERVICE  CMPSERVICE  \\\n",
       "0        2019.0   NaN   NaN     4.0   2.0     1.0         2.0         1.0   \n",
       "1        2019.0  14.0   4.0     4.0   6.0     2.0         1.0         2.0   \n",
       "2        2019.0  12.0   NaN     4.0   3.0     2.0         1.0         1.0   \n",
       "3        2019.0  10.0   NaN     4.0   5.0     2.0         1.0         1.0   \n",
       "4        2019.0   2.0   2.0     4.0   5.0     2.0         1.0         1.0   \n",
       "...         ...   ...   ...     ...   ...     ...         ...         ...   \n",
       "6362039  2019.0   5.0   NaN     4.0   5.0     1.0         2.0         1.0   \n",
       "6362040  2019.0   4.0   4.0     4.0   6.0     1.0         2.0         1.0   \n",
       "6362041  2019.0   8.0   1.0     4.0   2.0     1.0         2.0         1.0   \n",
       "6362042  2019.0  11.0   4.0     4.0   4.0     1.0         2.0         1.0   \n",
       "6362043  2019.0  14.0   NaN     4.0   2.0     2.0         2.0         1.0   \n",
       "\n",
       "         OPISERVICE  RTCSERVICE  ...  ODDFLG  PDDFLG  PERSONFLG  SCHIZOFLG  \\\n",
       "0               2.0         2.0  ...     0.0     0.0        0.0        0.0   \n",
       "1               2.0         2.0  ...     0.0     0.0        0.0        0.0   \n",
       "2               2.0         2.0  ...     0.0     0.0        0.0        1.0   \n",
       "3               1.0         2.0  ...     0.0     0.0        0.0        1.0   \n",
       "4               2.0         2.0  ...     0.0     0.0        0.0        0.0   \n",
       "...             ...         ...  ...     ...     ...        ...        ...   \n",
       "6362039         2.0         2.0  ...     0.0     0.0        0.0        0.0   \n",
       "6362040         2.0         2.0  ...     0.0     0.0        0.0        0.0   \n",
       "6362041         2.0         2.0  ...     0.0     0.0        0.0        1.0   \n",
       "6362042         2.0         2.0  ...     0.0     0.0        0.0        0.0   \n",
       "6362043         2.0         2.0  ...     0.0     0.0        1.0        0.0   \n",
       "\n",
       "         ALCSUBFLG  OTHERDISFLG  STATEFIP  DIVISION  REGION        CASEID  \n",
       "0              0.0          1.0       1.0       6.0     3.0  2.019000e+10  \n",
       "1              0.0          0.0       1.0       6.0     3.0  2.019000e+10  \n",
       "2              0.0          0.0       1.0       6.0     3.0  2.019000e+10  \n",
       "3              0.0          0.0       1.0       6.0     3.0  2.019000e+10  \n",
       "4              0.0          0.0       1.0       6.0     3.0  2.019000e+10  \n",
       "...            ...          ...       ...       ...     ...           ...  \n",
       "6362039        0.0          0.0      99.0       0.0     0.0  2.019636e+10  \n",
       "6362040        0.0          0.0      99.0       0.0     0.0  2.019636e+10  \n",
       "6362041        0.0          0.0      99.0       0.0     0.0  2.019636e+10  \n",
       "6362042        0.0          0.0      99.0       0.0     0.0  2.019636e+10  \n",
       "6362043        0.0          1.0      99.0       0.0     0.0  2.019636e+10  \n",
       "\n",
       "[6362044 rows x 40 columns]"
      ]
     },
     "execution_count": 45,
     "metadata": {},
     "output_type": "execute_result"
    }
   ],
   "source": [
    "from zipfile import ZipFile\n",
    "from io import BytesIO\n",
    "from urllib.request import urlopen\n",
    "\n",
    "r = urlopen('https://www.datafiles.samhsa.gov/sites/default/files/MH-CLD-2019-DS0001-bndl-data-sas.zip').read()\n",
    "file = ZipFile(BytesIO(r))\n",
    "file_ = file.open('mhcld_puf_2019.sas7bdat')\n",
    "df = pd.read_sas(file_, format='sas7bdat').replace(-9.0,np.nan)\n",
    "df"
   ]
  },
  {
   "cell_type": "code",
   "execution_count": 46,
   "metadata": {},
   "outputs": [
    {
     "data": {
      "text/plain": [
       "Index(['YEAR', 'AGE', 'EDUC', 'ETHNIC', 'RACE', 'GENDER', 'SPHSERVICE',\n",
       "       'CMPSERVICE', 'OPISERVICE', 'RTCSERVICE', 'IJSSERVICE', 'MH1', 'MH2',\n",
       "       'MH3', 'SUB', 'MARSTAT', 'SMISED', 'SAP', 'EMPLOY', 'DETNLF', 'VETERAN',\n",
       "       'LIVARAG', 'NUMMHS', 'TRAUSTREFLG', 'ANXIETYFLG', 'ADHDFLG',\n",
       "       'CONDUCTFLG', 'DELIRDEMFLG', 'BIPOLARFLG', 'DEPRESSFLG', 'ODDFLG',\n",
       "       'PDDFLG', 'PERSONFLG', 'SCHIZOFLG', 'ALCSUBFLG', 'OTHERDISFLG',\n",
       "       'STATEFIP', 'DIVISION', 'REGION', 'CASEID'],\n",
       "      dtype='object')"
      ]
     },
     "execution_count": 46,
     "metadata": {},
     "output_type": "execute_result"
    }
   ],
   "source": [
    "df.keys()"
   ]
  },
  {
   "cell_type": "code",
   "execution_count": 2,
   "metadata": {},
   "outputs": [],
   "source": [
    "from zipfile import ZipFile\n",
    "from io import BytesIO\n",
    "from urllib.request import urlopen\n",
    "\n",
    "r = urlopen('https://www.datafiles.samhsa.gov/sites/default/files/MH-CLD-2019-DS0001-bndl-data-sas.zip').read()\n",
    "file = ZipFile(BytesIO(r))\n",
    "file_ = file.open('mhcld_puf_2019.sas7bdat')\n",
    "df = pd.read_sas(file_, format='sas7bdat').replace(-9.0, np.nan).drop(['YEAR', 'NUMMHS', 'MH2', 'MH3','CASEID', 'DIVISION',\n",
    "                'REGION', 'TRAUSTREFLG', 'ANXIETYFLG', 'ADHDFLG', 'CONDUCTFLG', 'DELIRDEMFLG', 'BIPOLARFLG', 'DEPRESSFLG',\n",
    "                'ODDFLG', 'PDDFLG', 'PERSONFLG', 'SCHIZOFLG', 'ALCSUBFLG', 'OTHERDISFLG'], axis=1).dropna()"
   ]
  },
  {
   "cell_type": "code",
   "execution_count": 29,
   "metadata": {},
   "outputs": [
    {
     "data": {
      "text/html": [
       "<div>\n",
       "<style scoped>\n",
       "    .dataframe tbody tr th:only-of-type {\n",
       "        vertical-align: middle;\n",
       "    }\n",
       "\n",
       "    .dataframe tbody tr th {\n",
       "        vertical-align: top;\n",
       "    }\n",
       "\n",
       "    .dataframe thead th {\n",
       "        text-align: right;\n",
       "    }\n",
       "</style>\n",
       "<table border=\"1\" class=\"dataframe\">\n",
       "  <thead>\n",
       "    <tr style=\"text-align: right;\">\n",
       "      <th></th>\n",
       "      <th>AGE</th>\n",
       "      <th>EDUC</th>\n",
       "      <th>ETHNIC</th>\n",
       "      <th>RACE</th>\n",
       "      <th>GENDER</th>\n",
       "      <th>SPHSERVICE</th>\n",
       "      <th>CMPSERVICE</th>\n",
       "      <th>OPISERVICE</th>\n",
       "      <th>RTCSERVICE</th>\n",
       "      <th>IJSSERVICE</th>\n",
       "      <th>MH1</th>\n",
       "      <th>SUB</th>\n",
       "      <th>MARSTAT</th>\n",
       "      <th>SMISED</th>\n",
       "      <th>SAP</th>\n",
       "      <th>EMPLOY</th>\n",
       "      <th>DETNLF</th>\n",
       "      <th>VETERAN</th>\n",
       "      <th>LIVARAG</th>\n",
       "      <th>STATEFIP</th>\n",
       "    </tr>\n",
       "  </thead>\n",
       "  <tbody>\n",
       "    <tr>\n",
       "      <th>32</th>\n",
       "      <td>10.0</td>\n",
       "      <td>3.0</td>\n",
       "      <td>4.0</td>\n",
       "      <td>5.0</td>\n",
       "      <td>1.0</td>\n",
       "      <td>2.0</td>\n",
       "      <td>1.0</td>\n",
       "      <td>2.0</td>\n",
       "      <td>2.0</td>\n",
       "      <td>2.0</td>\n",
       "      <td>6.0</td>\n",
       "      <td>3.0</td>\n",
       "      <td>4.0</td>\n",
       "      <td>1.0</td>\n",
       "      <td>1.0</td>\n",
       "      <td>5.0</td>\n",
       "      <td>1.0</td>\n",
       "      <td>2.0</td>\n",
       "      <td>2.0</td>\n",
       "      <td>1.0</td>\n",
       "    </tr>\n",
       "    <tr>\n",
       "      <th>34</th>\n",
       "      <td>11.0</td>\n",
       "      <td>2.0</td>\n",
       "      <td>4.0</td>\n",
       "      <td>5.0</td>\n",
       "      <td>1.0</td>\n",
       "      <td>2.0</td>\n",
       "      <td>1.0</td>\n",
       "      <td>2.0</td>\n",
       "      <td>2.0</td>\n",
       "      <td>2.0</td>\n",
       "      <td>7.0</td>\n",
       "      <td>8.0</td>\n",
       "      <td>4.0</td>\n",
       "      <td>1.0</td>\n",
       "      <td>1.0</td>\n",
       "      <td>5.0</td>\n",
       "      <td>1.0</td>\n",
       "      <td>2.0</td>\n",
       "      <td>2.0</td>\n",
       "      <td>1.0</td>\n",
       "    </tr>\n",
       "    <tr>\n",
       "      <th>58</th>\n",
       "      <td>11.0</td>\n",
       "      <td>4.0</td>\n",
       "      <td>4.0</td>\n",
       "      <td>5.0</td>\n",
       "      <td>1.0</td>\n",
       "      <td>2.0</td>\n",
       "      <td>1.0</td>\n",
       "      <td>2.0</td>\n",
       "      <td>2.0</td>\n",
       "      <td>2.0</td>\n",
       "      <td>7.0</td>\n",
       "      <td>7.0</td>\n",
       "      <td>1.0</td>\n",
       "      <td>1.0</td>\n",
       "      <td>1.0</td>\n",
       "      <td>5.0</td>\n",
       "      <td>5.0</td>\n",
       "      <td>2.0</td>\n",
       "      <td>2.0</td>\n",
       "      <td>1.0</td>\n",
       "    </tr>\n",
       "    <tr>\n",
       "      <th>59</th>\n",
       "      <td>9.0</td>\n",
       "      <td>4.0</td>\n",
       "      <td>4.0</td>\n",
       "      <td>5.0</td>\n",
       "      <td>2.0</td>\n",
       "      <td>2.0</td>\n",
       "      <td>1.0</td>\n",
       "      <td>2.0</td>\n",
       "      <td>2.0</td>\n",
       "      <td>2.0</td>\n",
       "      <td>7.0</td>\n",
       "      <td>7.0</td>\n",
       "      <td>4.0</td>\n",
       "      <td>3.0</td>\n",
       "      <td>1.0</td>\n",
       "      <td>5.0</td>\n",
       "      <td>5.0</td>\n",
       "      <td>2.0</td>\n",
       "      <td>2.0</td>\n",
       "      <td>1.0</td>\n",
       "    </tr>\n",
       "    <tr>\n",
       "      <th>65</th>\n",
       "      <td>12.0</td>\n",
       "      <td>3.0</td>\n",
       "      <td>4.0</td>\n",
       "      <td>5.0</td>\n",
       "      <td>2.0</td>\n",
       "      <td>2.0</td>\n",
       "      <td>1.0</td>\n",
       "      <td>2.0</td>\n",
       "      <td>2.0</td>\n",
       "      <td>2.0</td>\n",
       "      <td>7.0</td>\n",
       "      <td>6.0</td>\n",
       "      <td>3.0</td>\n",
       "      <td>1.0</td>\n",
       "      <td>1.0</td>\n",
       "      <td>5.0</td>\n",
       "      <td>1.0</td>\n",
       "      <td>2.0</td>\n",
       "      <td>2.0</td>\n",
       "      <td>1.0</td>\n",
       "    </tr>\n",
       "    <tr>\n",
       "      <th>...</th>\n",
       "      <td>...</td>\n",
       "      <td>...</td>\n",
       "      <td>...</td>\n",
       "      <td>...</td>\n",
       "      <td>...</td>\n",
       "      <td>...</td>\n",
       "      <td>...</td>\n",
       "      <td>...</td>\n",
       "      <td>...</td>\n",
       "      <td>...</td>\n",
       "      <td>...</td>\n",
       "      <td>...</td>\n",
       "      <td>...</td>\n",
       "      <td>...</td>\n",
       "      <td>...</td>\n",
       "      <td>...</td>\n",
       "      <td>...</td>\n",
       "      <td>...</td>\n",
       "      <td>...</td>\n",
       "      <td>...</td>\n",
       "    </tr>\n",
       "    <tr>\n",
       "      <th>6361377</th>\n",
       "      <td>12.0</td>\n",
       "      <td>5.0</td>\n",
       "      <td>2.0</td>\n",
       "      <td>6.0</td>\n",
       "      <td>1.0</td>\n",
       "      <td>2.0</td>\n",
       "      <td>1.0</td>\n",
       "      <td>2.0</td>\n",
       "      <td>2.0</td>\n",
       "      <td>2.0</td>\n",
       "      <td>11.0</td>\n",
       "      <td>3.0</td>\n",
       "      <td>4.0</td>\n",
       "      <td>1.0</td>\n",
       "      <td>1.0</td>\n",
       "      <td>5.0</td>\n",
       "      <td>1.0</td>\n",
       "      <td>2.0</td>\n",
       "      <td>2.0</td>\n",
       "      <td>72.0</td>\n",
       "    </tr>\n",
       "    <tr>\n",
       "      <th>6361435</th>\n",
       "      <td>8.0</td>\n",
       "      <td>3.0</td>\n",
       "      <td>2.0</td>\n",
       "      <td>6.0</td>\n",
       "      <td>2.0</td>\n",
       "      <td>2.0</td>\n",
       "      <td>1.0</td>\n",
       "      <td>1.0</td>\n",
       "      <td>2.0</td>\n",
       "      <td>2.0</td>\n",
       "      <td>11.0</td>\n",
       "      <td>5.0</td>\n",
       "      <td>1.0</td>\n",
       "      <td>1.0</td>\n",
       "      <td>1.0</td>\n",
       "      <td>5.0</td>\n",
       "      <td>1.0</td>\n",
       "      <td>2.0</td>\n",
       "      <td>2.0</td>\n",
       "      <td>72.0</td>\n",
       "    </tr>\n",
       "    <tr>\n",
       "      <th>6361492</th>\n",
       "      <td>3.0</td>\n",
       "      <td>2.0</td>\n",
       "      <td>3.0</td>\n",
       "      <td>6.0</td>\n",
       "      <td>1.0</td>\n",
       "      <td>1.0</td>\n",
       "      <td>1.0</td>\n",
       "      <td>2.0</td>\n",
       "      <td>2.0</td>\n",
       "      <td>2.0</td>\n",
       "      <td>7.0</td>\n",
       "      <td>4.0</td>\n",
       "      <td>1.0</td>\n",
       "      <td>2.0</td>\n",
       "      <td>1.0</td>\n",
       "      <td>5.0</td>\n",
       "      <td>2.0</td>\n",
       "      <td>2.0</td>\n",
       "      <td>2.0</td>\n",
       "      <td>72.0</td>\n",
       "    </tr>\n",
       "    <tr>\n",
       "      <th>6361804</th>\n",
       "      <td>14.0</td>\n",
       "      <td>4.0</td>\n",
       "      <td>4.0</td>\n",
       "      <td>4.0</td>\n",
       "      <td>1.0</td>\n",
       "      <td>2.0</td>\n",
       "      <td>1.0</td>\n",
       "      <td>2.0</td>\n",
       "      <td>2.0</td>\n",
       "      <td>2.0</td>\n",
       "      <td>11.0</td>\n",
       "      <td>11.0</td>\n",
       "      <td>4.0</td>\n",
       "      <td>1.0</td>\n",
       "      <td>1.0</td>\n",
       "      <td>5.0</td>\n",
       "      <td>1.0</td>\n",
       "      <td>2.0</td>\n",
       "      <td>2.0</td>\n",
       "      <td>99.0</td>\n",
       "    </tr>\n",
       "    <tr>\n",
       "      <th>6361814</th>\n",
       "      <td>3.0</td>\n",
       "      <td>3.0</td>\n",
       "      <td>4.0</td>\n",
       "      <td>4.0</td>\n",
       "      <td>2.0</td>\n",
       "      <td>2.0</td>\n",
       "      <td>1.0</td>\n",
       "      <td>2.0</td>\n",
       "      <td>2.0</td>\n",
       "      <td>2.0</td>\n",
       "      <td>7.0</td>\n",
       "      <td>9.0</td>\n",
       "      <td>1.0</td>\n",
       "      <td>2.0</td>\n",
       "      <td>1.0</td>\n",
       "      <td>5.0</td>\n",
       "      <td>2.0</td>\n",
       "      <td>2.0</td>\n",
       "      <td>2.0</td>\n",
       "      <td>99.0</td>\n",
       "    </tr>\n",
       "  </tbody>\n",
       "</table>\n",
       "<p>96170 rows × 20 columns</p>\n",
       "</div>"
      ],
      "text/plain": [
       "          AGE  EDUC  ETHNIC  RACE  GENDER  SPHSERVICE  CMPSERVICE  OPISERVICE  \\\n",
       "32       10.0   3.0     4.0   5.0     1.0         2.0         1.0         2.0   \n",
       "34       11.0   2.0     4.0   5.0     1.0         2.0         1.0         2.0   \n",
       "58       11.0   4.0     4.0   5.0     1.0         2.0         1.0         2.0   \n",
       "59        9.0   4.0     4.0   5.0     2.0         2.0         1.0         2.0   \n",
       "65       12.0   3.0     4.0   5.0     2.0         2.0         1.0         2.0   \n",
       "...       ...   ...     ...   ...     ...         ...         ...         ...   \n",
       "6361377  12.0   5.0     2.0   6.0     1.0         2.0         1.0         2.0   \n",
       "6361435   8.0   3.0     2.0   6.0     2.0         2.0         1.0         1.0   \n",
       "6361492   3.0   2.0     3.0   6.0     1.0         1.0         1.0         2.0   \n",
       "6361804  14.0   4.0     4.0   4.0     1.0         2.0         1.0         2.0   \n",
       "6361814   3.0   3.0     4.0   4.0     2.0         2.0         1.0         2.0   \n",
       "\n",
       "         RTCSERVICE  IJSSERVICE   MH1   SUB  MARSTAT  SMISED  SAP  EMPLOY  \\\n",
       "32              2.0         2.0   6.0   3.0      4.0     1.0  1.0     5.0   \n",
       "34              2.0         2.0   7.0   8.0      4.0     1.0  1.0     5.0   \n",
       "58              2.0         2.0   7.0   7.0      1.0     1.0  1.0     5.0   \n",
       "59              2.0         2.0   7.0   7.0      4.0     3.0  1.0     5.0   \n",
       "65              2.0         2.0   7.0   6.0      3.0     1.0  1.0     5.0   \n",
       "...             ...         ...   ...   ...      ...     ...  ...     ...   \n",
       "6361377         2.0         2.0  11.0   3.0      4.0     1.0  1.0     5.0   \n",
       "6361435         2.0         2.0  11.0   5.0      1.0     1.0  1.0     5.0   \n",
       "6361492         2.0         2.0   7.0   4.0      1.0     2.0  1.0     5.0   \n",
       "6361804         2.0         2.0  11.0  11.0      4.0     1.0  1.0     5.0   \n",
       "6361814         2.0         2.0   7.0   9.0      1.0     2.0  1.0     5.0   \n",
       "\n",
       "         DETNLF  VETERAN  LIVARAG  STATEFIP  \n",
       "32          1.0      2.0      2.0       1.0  \n",
       "34          1.0      2.0      2.0       1.0  \n",
       "58          5.0      2.0      2.0       1.0  \n",
       "59          5.0      2.0      2.0       1.0  \n",
       "65          1.0      2.0      2.0       1.0  \n",
       "...         ...      ...      ...       ...  \n",
       "6361377     1.0      2.0      2.0      72.0  \n",
       "6361435     1.0      2.0      2.0      72.0  \n",
       "6361492     2.0      2.0      2.0      72.0  \n",
       "6361804     1.0      2.0      2.0      99.0  \n",
       "6361814     2.0      2.0      2.0      99.0  \n",
       "\n",
       "[96170 rows x 20 columns]"
      ]
     },
     "execution_count": 29,
     "metadata": {},
     "output_type": "execute_result"
    }
   ],
   "source": [
    "df"
   ]
  },
  {
   "cell_type": "markdown",
   "metadata": {},
   "source": [
    "## Visualizations"
   ]
  },
  {
   "cell_type": "code",
   "execution_count": 47,
   "metadata": {},
   "outputs": [],
   "source": [
    "def depression_chart(df, col, map_dict):\n",
    "    \"\"\"\n",
    "    This function takes in a dataframe, a specified column, and a dictionary of\n",
    "    numrical values to strings and outputs a pie chart showing the percentage of\n",
    "    people diagnosed with depressive disorders for each value in the dictionary.\n",
    "    \"\"\"\n",
    "    df = df[[col, \"DEPRESSFLG\"]] # get relevant columns\n",
    "    # depressive disorder corresponds to 1 in the DEPRESSFLG column\n",
    "    df = df[df[\"DEPRESSFLG\"]==1] \n",
    "    df = df.dropna(subset=[col]) # drop nan values from RACE\n",
    "    df[col] = df[col].map(map_dict) # map to string values\n",
    "    # create the pie chart\n",
    "    fig = px.pie(df,\n",
    "                 values = df.groupby(col).size(),\n",
    "                 names = df.groupby(col).groups.keys(),\n",
    "                 title = \"Number of People Diagnosed with Depressive Disorders by \" + col)\n",
    "    fig.show()"
   ]
  },
  {
   "cell_type": "code",
   "execution_count": 48,
   "metadata": {},
   "outputs": [],
   "source": [
    "# Define the mapping dictionaries for race and gender\n",
    "map_dict1 = {1: 'American Indian/Alaska Native',\n",
    "             2: 'Asian',\n",
    "             3: 'Black or African American',\n",
    "             4: 'Native Hawaiian or Other Pacific Islander',\n",
    "             5: 'White',\n",
    "             6: 'Some other race alone/two or more races'}\n",
    "\n",
    "map_dict2 = {1: \"Male\", 2: \"Female\"}"
   ]
  },
  {
   "cell_type": "code",
   "execution_count": 49,
   "metadata": {},
   "outputs": [
    {
     "data": {
      "application/vnd.plotly.v1+json": {
       "config": {
        "plotlyServerURL": "https://plot.ly"
       },
       "data": [
        {
         "domain": {
          "x": [
           0,
           1
          ],
          "y": [
           0,
           1
          ]
         },
         "hovertemplate": "label=%{label}<br>value=%{value}<extra></extra>",
         "labels": [
          "American Indian/Alaska Native",
          "Asian",
          "Black or African American",
          "Native Hawaiian or Other Pacific Islander",
          "Some other race alone/two or more races",
          "White"
         ],
         "legendgroup": "",
         "name": "",
         "showlegend": true,
         "type": "pie",
         "values": [
          28050,
          26533,
          308067,
          4600,
          177251,
          1097589
         ]
        }
       ],
       "layout": {
        "legend": {
         "tracegroupgap": 0
        },
        "template": {
         "data": {
          "bar": [
           {
            "error_x": {
             "color": "#2a3f5f"
            },
            "error_y": {
             "color": "#2a3f5f"
            },
            "marker": {
             "line": {
              "color": "#E5ECF6",
              "width": 0.5
             },
             "pattern": {
              "fillmode": "overlay",
              "size": 10,
              "solidity": 0.2
             }
            },
            "type": "bar"
           }
          ],
          "barpolar": [
           {
            "marker": {
             "line": {
              "color": "#E5ECF6",
              "width": 0.5
             },
             "pattern": {
              "fillmode": "overlay",
              "size": 10,
              "solidity": 0.2
             }
            },
            "type": "barpolar"
           }
          ],
          "carpet": [
           {
            "aaxis": {
             "endlinecolor": "#2a3f5f",
             "gridcolor": "white",
             "linecolor": "white",
             "minorgridcolor": "white",
             "startlinecolor": "#2a3f5f"
            },
            "baxis": {
             "endlinecolor": "#2a3f5f",
             "gridcolor": "white",
             "linecolor": "white",
             "minorgridcolor": "white",
             "startlinecolor": "#2a3f5f"
            },
            "type": "carpet"
           }
          ],
          "choropleth": [
           {
            "colorbar": {
             "outlinewidth": 0,
             "ticks": ""
            },
            "type": "choropleth"
           }
          ],
          "contour": [
           {
            "colorbar": {
             "outlinewidth": 0,
             "ticks": ""
            },
            "colorscale": [
             [
              0,
              "#0d0887"
             ],
             [
              0.1111111111111111,
              "#46039f"
             ],
             [
              0.2222222222222222,
              "#7201a8"
             ],
             [
              0.3333333333333333,
              "#9c179e"
             ],
             [
              0.4444444444444444,
              "#bd3786"
             ],
             [
              0.5555555555555556,
              "#d8576b"
             ],
             [
              0.6666666666666666,
              "#ed7953"
             ],
             [
              0.7777777777777778,
              "#fb9f3a"
             ],
             [
              0.8888888888888888,
              "#fdca26"
             ],
             [
              1,
              "#f0f921"
             ]
            ],
            "type": "contour"
           }
          ],
          "contourcarpet": [
           {
            "colorbar": {
             "outlinewidth": 0,
             "ticks": ""
            },
            "type": "contourcarpet"
           }
          ],
          "heatmap": [
           {
            "colorbar": {
             "outlinewidth": 0,
             "ticks": ""
            },
            "colorscale": [
             [
              0,
              "#0d0887"
             ],
             [
              0.1111111111111111,
              "#46039f"
             ],
             [
              0.2222222222222222,
              "#7201a8"
             ],
             [
              0.3333333333333333,
              "#9c179e"
             ],
             [
              0.4444444444444444,
              "#bd3786"
             ],
             [
              0.5555555555555556,
              "#d8576b"
             ],
             [
              0.6666666666666666,
              "#ed7953"
             ],
             [
              0.7777777777777778,
              "#fb9f3a"
             ],
             [
              0.8888888888888888,
              "#fdca26"
             ],
             [
              1,
              "#f0f921"
             ]
            ],
            "type": "heatmap"
           }
          ],
          "heatmapgl": [
           {
            "colorbar": {
             "outlinewidth": 0,
             "ticks": ""
            },
            "colorscale": [
             [
              0,
              "#0d0887"
             ],
             [
              0.1111111111111111,
              "#46039f"
             ],
             [
              0.2222222222222222,
              "#7201a8"
             ],
             [
              0.3333333333333333,
              "#9c179e"
             ],
             [
              0.4444444444444444,
              "#bd3786"
             ],
             [
              0.5555555555555556,
              "#d8576b"
             ],
             [
              0.6666666666666666,
              "#ed7953"
             ],
             [
              0.7777777777777778,
              "#fb9f3a"
             ],
             [
              0.8888888888888888,
              "#fdca26"
             ],
             [
              1,
              "#f0f921"
             ]
            ],
            "type": "heatmapgl"
           }
          ],
          "histogram": [
           {
            "marker": {
             "pattern": {
              "fillmode": "overlay",
              "size": 10,
              "solidity": 0.2
             }
            },
            "type": "histogram"
           }
          ],
          "histogram2d": [
           {
            "colorbar": {
             "outlinewidth": 0,
             "ticks": ""
            },
            "colorscale": [
             [
              0,
              "#0d0887"
             ],
             [
              0.1111111111111111,
              "#46039f"
             ],
             [
              0.2222222222222222,
              "#7201a8"
             ],
             [
              0.3333333333333333,
              "#9c179e"
             ],
             [
              0.4444444444444444,
              "#bd3786"
             ],
             [
              0.5555555555555556,
              "#d8576b"
             ],
             [
              0.6666666666666666,
              "#ed7953"
             ],
             [
              0.7777777777777778,
              "#fb9f3a"
             ],
             [
              0.8888888888888888,
              "#fdca26"
             ],
             [
              1,
              "#f0f921"
             ]
            ],
            "type": "histogram2d"
           }
          ],
          "histogram2dcontour": [
           {
            "colorbar": {
             "outlinewidth": 0,
             "ticks": ""
            },
            "colorscale": [
             [
              0,
              "#0d0887"
             ],
             [
              0.1111111111111111,
              "#46039f"
             ],
             [
              0.2222222222222222,
              "#7201a8"
             ],
             [
              0.3333333333333333,
              "#9c179e"
             ],
             [
              0.4444444444444444,
              "#bd3786"
             ],
             [
              0.5555555555555556,
              "#d8576b"
             ],
             [
              0.6666666666666666,
              "#ed7953"
             ],
             [
              0.7777777777777778,
              "#fb9f3a"
             ],
             [
              0.8888888888888888,
              "#fdca26"
             ],
             [
              1,
              "#f0f921"
             ]
            ],
            "type": "histogram2dcontour"
           }
          ],
          "mesh3d": [
           {
            "colorbar": {
             "outlinewidth": 0,
             "ticks": ""
            },
            "type": "mesh3d"
           }
          ],
          "parcoords": [
           {
            "line": {
             "colorbar": {
              "outlinewidth": 0,
              "ticks": ""
             }
            },
            "type": "parcoords"
           }
          ],
          "pie": [
           {
            "automargin": true,
            "type": "pie"
           }
          ],
          "scatter": [
           {
            "marker": {
             "colorbar": {
              "outlinewidth": 0,
              "ticks": ""
             }
            },
            "type": "scatter"
           }
          ],
          "scatter3d": [
           {
            "line": {
             "colorbar": {
              "outlinewidth": 0,
              "ticks": ""
             }
            },
            "marker": {
             "colorbar": {
              "outlinewidth": 0,
              "ticks": ""
             }
            },
            "type": "scatter3d"
           }
          ],
          "scattercarpet": [
           {
            "marker": {
             "colorbar": {
              "outlinewidth": 0,
              "ticks": ""
             }
            },
            "type": "scattercarpet"
           }
          ],
          "scattergeo": [
           {
            "marker": {
             "colorbar": {
              "outlinewidth": 0,
              "ticks": ""
             }
            },
            "type": "scattergeo"
           }
          ],
          "scattergl": [
           {
            "marker": {
             "colorbar": {
              "outlinewidth": 0,
              "ticks": ""
             }
            },
            "type": "scattergl"
           }
          ],
          "scattermapbox": [
           {
            "marker": {
             "colorbar": {
              "outlinewidth": 0,
              "ticks": ""
             }
            },
            "type": "scattermapbox"
           }
          ],
          "scatterpolar": [
           {
            "marker": {
             "colorbar": {
              "outlinewidth": 0,
              "ticks": ""
             }
            },
            "type": "scatterpolar"
           }
          ],
          "scatterpolargl": [
           {
            "marker": {
             "colorbar": {
              "outlinewidth": 0,
              "ticks": ""
             }
            },
            "type": "scatterpolargl"
           }
          ],
          "scatterternary": [
           {
            "marker": {
             "colorbar": {
              "outlinewidth": 0,
              "ticks": ""
             }
            },
            "type": "scatterternary"
           }
          ],
          "surface": [
           {
            "colorbar": {
             "outlinewidth": 0,
             "ticks": ""
            },
            "colorscale": [
             [
              0,
              "#0d0887"
             ],
             [
              0.1111111111111111,
              "#46039f"
             ],
             [
              0.2222222222222222,
              "#7201a8"
             ],
             [
              0.3333333333333333,
              "#9c179e"
             ],
             [
              0.4444444444444444,
              "#bd3786"
             ],
             [
              0.5555555555555556,
              "#d8576b"
             ],
             [
              0.6666666666666666,
              "#ed7953"
             ],
             [
              0.7777777777777778,
              "#fb9f3a"
             ],
             [
              0.8888888888888888,
              "#fdca26"
             ],
             [
              1,
              "#f0f921"
             ]
            ],
            "type": "surface"
           }
          ],
          "table": [
           {
            "cells": {
             "fill": {
              "color": "#EBF0F8"
             },
             "line": {
              "color": "white"
             }
            },
            "header": {
             "fill": {
              "color": "#C8D4E3"
             },
             "line": {
              "color": "white"
             }
            },
            "type": "table"
           }
          ]
         },
         "layout": {
          "annotationdefaults": {
           "arrowcolor": "#2a3f5f",
           "arrowhead": 0,
           "arrowwidth": 1
          },
          "autotypenumbers": "strict",
          "coloraxis": {
           "colorbar": {
            "outlinewidth": 0,
            "ticks": ""
           }
          },
          "colorscale": {
           "diverging": [
            [
             0,
             "#8e0152"
            ],
            [
             0.1,
             "#c51b7d"
            ],
            [
             0.2,
             "#de77ae"
            ],
            [
             0.3,
             "#f1b6da"
            ],
            [
             0.4,
             "#fde0ef"
            ],
            [
             0.5,
             "#f7f7f7"
            ],
            [
             0.6,
             "#e6f5d0"
            ],
            [
             0.7,
             "#b8e186"
            ],
            [
             0.8,
             "#7fbc41"
            ],
            [
             0.9,
             "#4d9221"
            ],
            [
             1,
             "#276419"
            ]
           ],
           "sequential": [
            [
             0,
             "#0d0887"
            ],
            [
             0.1111111111111111,
             "#46039f"
            ],
            [
             0.2222222222222222,
             "#7201a8"
            ],
            [
             0.3333333333333333,
             "#9c179e"
            ],
            [
             0.4444444444444444,
             "#bd3786"
            ],
            [
             0.5555555555555556,
             "#d8576b"
            ],
            [
             0.6666666666666666,
             "#ed7953"
            ],
            [
             0.7777777777777778,
             "#fb9f3a"
            ],
            [
             0.8888888888888888,
             "#fdca26"
            ],
            [
             1,
             "#f0f921"
            ]
           ],
           "sequentialminus": [
            [
             0,
             "#0d0887"
            ],
            [
             0.1111111111111111,
             "#46039f"
            ],
            [
             0.2222222222222222,
             "#7201a8"
            ],
            [
             0.3333333333333333,
             "#9c179e"
            ],
            [
             0.4444444444444444,
             "#bd3786"
            ],
            [
             0.5555555555555556,
             "#d8576b"
            ],
            [
             0.6666666666666666,
             "#ed7953"
            ],
            [
             0.7777777777777778,
             "#fb9f3a"
            ],
            [
             0.8888888888888888,
             "#fdca26"
            ],
            [
             1,
             "#f0f921"
            ]
           ]
          },
          "colorway": [
           "#636efa",
           "#EF553B",
           "#00cc96",
           "#ab63fa",
           "#FFA15A",
           "#19d3f3",
           "#FF6692",
           "#B6E880",
           "#FF97FF",
           "#FECB52"
          ],
          "font": {
           "color": "#2a3f5f"
          },
          "geo": {
           "bgcolor": "white",
           "lakecolor": "white",
           "landcolor": "#E5ECF6",
           "showlakes": true,
           "showland": true,
           "subunitcolor": "white"
          },
          "hoverlabel": {
           "align": "left"
          },
          "hovermode": "closest",
          "mapbox": {
           "style": "light"
          },
          "paper_bgcolor": "white",
          "plot_bgcolor": "#E5ECF6",
          "polar": {
           "angularaxis": {
            "gridcolor": "white",
            "linecolor": "white",
            "ticks": ""
           },
           "bgcolor": "#E5ECF6",
           "radialaxis": {
            "gridcolor": "white",
            "linecolor": "white",
            "ticks": ""
           }
          },
          "scene": {
           "xaxis": {
            "backgroundcolor": "#E5ECF6",
            "gridcolor": "white",
            "gridwidth": 2,
            "linecolor": "white",
            "showbackground": true,
            "ticks": "",
            "zerolinecolor": "white"
           },
           "yaxis": {
            "backgroundcolor": "#E5ECF6",
            "gridcolor": "white",
            "gridwidth": 2,
            "linecolor": "white",
            "showbackground": true,
            "ticks": "",
            "zerolinecolor": "white"
           },
           "zaxis": {
            "backgroundcolor": "#E5ECF6",
            "gridcolor": "white",
            "gridwidth": 2,
            "linecolor": "white",
            "showbackground": true,
            "ticks": "",
            "zerolinecolor": "white"
           }
          },
          "shapedefaults": {
           "line": {
            "color": "#2a3f5f"
           }
          },
          "ternary": {
           "aaxis": {
            "gridcolor": "white",
            "linecolor": "white",
            "ticks": ""
           },
           "baxis": {
            "gridcolor": "white",
            "linecolor": "white",
            "ticks": ""
           },
           "bgcolor": "#E5ECF6",
           "caxis": {
            "gridcolor": "white",
            "linecolor": "white",
            "ticks": ""
           }
          },
          "title": {
           "x": 0.05
          },
          "xaxis": {
           "automargin": true,
           "gridcolor": "white",
           "linecolor": "white",
           "ticks": "",
           "title": {
            "standoff": 15
           },
           "zerolinecolor": "white",
           "zerolinewidth": 2
          },
          "yaxis": {
           "automargin": true,
           "gridcolor": "white",
           "linecolor": "white",
           "ticks": "",
           "title": {
            "standoff": 15
           },
           "zerolinecolor": "white",
           "zerolinewidth": 2
          }
         }
        },
        "title": {
         "text": "Number of People Diagnosed with Depressive Disorders by RACE"
        }
       }
      }
     },
     "metadata": {},
     "output_type": "display_data"
    }
   ],
   "source": [
    "# plot race pie chart\n",
    "depression_chart(df, \"RACE\", map_dict1)"
   ]
  },
  {
   "cell_type": "code",
   "execution_count": 50,
   "metadata": {},
   "outputs": [
    {
     "data": {
      "application/vnd.plotly.v1+json": {
       "config": {
        "plotlyServerURL": "https://plot.ly"
       },
       "data": [
        {
         "domain": {
          "x": [
           0,
           1
          ],
          "y": [
           0,
           1
          ]
         },
         "hovertemplate": "label=%{label}<br>value=%{value}<extra></extra>",
         "labels": [
          "Female",
          "Male"
         ],
         "legendgroup": "",
         "name": "",
         "showlegend": true,
         "type": "pie",
         "values": [
          1095848,
          666228
         ]
        }
       ],
       "layout": {
        "legend": {
         "tracegroupgap": 0
        },
        "template": {
         "data": {
          "bar": [
           {
            "error_x": {
             "color": "#2a3f5f"
            },
            "error_y": {
             "color": "#2a3f5f"
            },
            "marker": {
             "line": {
              "color": "#E5ECF6",
              "width": 0.5
             },
             "pattern": {
              "fillmode": "overlay",
              "size": 10,
              "solidity": 0.2
             }
            },
            "type": "bar"
           }
          ],
          "barpolar": [
           {
            "marker": {
             "line": {
              "color": "#E5ECF6",
              "width": 0.5
             },
             "pattern": {
              "fillmode": "overlay",
              "size": 10,
              "solidity": 0.2
             }
            },
            "type": "barpolar"
           }
          ],
          "carpet": [
           {
            "aaxis": {
             "endlinecolor": "#2a3f5f",
             "gridcolor": "white",
             "linecolor": "white",
             "minorgridcolor": "white",
             "startlinecolor": "#2a3f5f"
            },
            "baxis": {
             "endlinecolor": "#2a3f5f",
             "gridcolor": "white",
             "linecolor": "white",
             "minorgridcolor": "white",
             "startlinecolor": "#2a3f5f"
            },
            "type": "carpet"
           }
          ],
          "choropleth": [
           {
            "colorbar": {
             "outlinewidth": 0,
             "ticks": ""
            },
            "type": "choropleth"
           }
          ],
          "contour": [
           {
            "colorbar": {
             "outlinewidth": 0,
             "ticks": ""
            },
            "colorscale": [
             [
              0,
              "#0d0887"
             ],
             [
              0.1111111111111111,
              "#46039f"
             ],
             [
              0.2222222222222222,
              "#7201a8"
             ],
             [
              0.3333333333333333,
              "#9c179e"
             ],
             [
              0.4444444444444444,
              "#bd3786"
             ],
             [
              0.5555555555555556,
              "#d8576b"
             ],
             [
              0.6666666666666666,
              "#ed7953"
             ],
             [
              0.7777777777777778,
              "#fb9f3a"
             ],
             [
              0.8888888888888888,
              "#fdca26"
             ],
             [
              1,
              "#f0f921"
             ]
            ],
            "type": "contour"
           }
          ],
          "contourcarpet": [
           {
            "colorbar": {
             "outlinewidth": 0,
             "ticks": ""
            },
            "type": "contourcarpet"
           }
          ],
          "heatmap": [
           {
            "colorbar": {
             "outlinewidth": 0,
             "ticks": ""
            },
            "colorscale": [
             [
              0,
              "#0d0887"
             ],
             [
              0.1111111111111111,
              "#46039f"
             ],
             [
              0.2222222222222222,
              "#7201a8"
             ],
             [
              0.3333333333333333,
              "#9c179e"
             ],
             [
              0.4444444444444444,
              "#bd3786"
             ],
             [
              0.5555555555555556,
              "#d8576b"
             ],
             [
              0.6666666666666666,
              "#ed7953"
             ],
             [
              0.7777777777777778,
              "#fb9f3a"
             ],
             [
              0.8888888888888888,
              "#fdca26"
             ],
             [
              1,
              "#f0f921"
             ]
            ],
            "type": "heatmap"
           }
          ],
          "heatmapgl": [
           {
            "colorbar": {
             "outlinewidth": 0,
             "ticks": ""
            },
            "colorscale": [
             [
              0,
              "#0d0887"
             ],
             [
              0.1111111111111111,
              "#46039f"
             ],
             [
              0.2222222222222222,
              "#7201a8"
             ],
             [
              0.3333333333333333,
              "#9c179e"
             ],
             [
              0.4444444444444444,
              "#bd3786"
             ],
             [
              0.5555555555555556,
              "#d8576b"
             ],
             [
              0.6666666666666666,
              "#ed7953"
             ],
             [
              0.7777777777777778,
              "#fb9f3a"
             ],
             [
              0.8888888888888888,
              "#fdca26"
             ],
             [
              1,
              "#f0f921"
             ]
            ],
            "type": "heatmapgl"
           }
          ],
          "histogram": [
           {
            "marker": {
             "pattern": {
              "fillmode": "overlay",
              "size": 10,
              "solidity": 0.2
             }
            },
            "type": "histogram"
           }
          ],
          "histogram2d": [
           {
            "colorbar": {
             "outlinewidth": 0,
             "ticks": ""
            },
            "colorscale": [
             [
              0,
              "#0d0887"
             ],
             [
              0.1111111111111111,
              "#46039f"
             ],
             [
              0.2222222222222222,
              "#7201a8"
             ],
             [
              0.3333333333333333,
              "#9c179e"
             ],
             [
              0.4444444444444444,
              "#bd3786"
             ],
             [
              0.5555555555555556,
              "#d8576b"
             ],
             [
              0.6666666666666666,
              "#ed7953"
             ],
             [
              0.7777777777777778,
              "#fb9f3a"
             ],
             [
              0.8888888888888888,
              "#fdca26"
             ],
             [
              1,
              "#f0f921"
             ]
            ],
            "type": "histogram2d"
           }
          ],
          "histogram2dcontour": [
           {
            "colorbar": {
             "outlinewidth": 0,
             "ticks": ""
            },
            "colorscale": [
             [
              0,
              "#0d0887"
             ],
             [
              0.1111111111111111,
              "#46039f"
             ],
             [
              0.2222222222222222,
              "#7201a8"
             ],
             [
              0.3333333333333333,
              "#9c179e"
             ],
             [
              0.4444444444444444,
              "#bd3786"
             ],
             [
              0.5555555555555556,
              "#d8576b"
             ],
             [
              0.6666666666666666,
              "#ed7953"
             ],
             [
              0.7777777777777778,
              "#fb9f3a"
             ],
             [
              0.8888888888888888,
              "#fdca26"
             ],
             [
              1,
              "#f0f921"
             ]
            ],
            "type": "histogram2dcontour"
           }
          ],
          "mesh3d": [
           {
            "colorbar": {
             "outlinewidth": 0,
             "ticks": ""
            },
            "type": "mesh3d"
           }
          ],
          "parcoords": [
           {
            "line": {
             "colorbar": {
              "outlinewidth": 0,
              "ticks": ""
             }
            },
            "type": "parcoords"
           }
          ],
          "pie": [
           {
            "automargin": true,
            "type": "pie"
           }
          ],
          "scatter": [
           {
            "marker": {
             "colorbar": {
              "outlinewidth": 0,
              "ticks": ""
             }
            },
            "type": "scatter"
           }
          ],
          "scatter3d": [
           {
            "line": {
             "colorbar": {
              "outlinewidth": 0,
              "ticks": ""
             }
            },
            "marker": {
             "colorbar": {
              "outlinewidth": 0,
              "ticks": ""
             }
            },
            "type": "scatter3d"
           }
          ],
          "scattercarpet": [
           {
            "marker": {
             "colorbar": {
              "outlinewidth": 0,
              "ticks": ""
             }
            },
            "type": "scattercarpet"
           }
          ],
          "scattergeo": [
           {
            "marker": {
             "colorbar": {
              "outlinewidth": 0,
              "ticks": ""
             }
            },
            "type": "scattergeo"
           }
          ],
          "scattergl": [
           {
            "marker": {
             "colorbar": {
              "outlinewidth": 0,
              "ticks": ""
             }
            },
            "type": "scattergl"
           }
          ],
          "scattermapbox": [
           {
            "marker": {
             "colorbar": {
              "outlinewidth": 0,
              "ticks": ""
             }
            },
            "type": "scattermapbox"
           }
          ],
          "scatterpolar": [
           {
            "marker": {
             "colorbar": {
              "outlinewidth": 0,
              "ticks": ""
             }
            },
            "type": "scatterpolar"
           }
          ],
          "scatterpolargl": [
           {
            "marker": {
             "colorbar": {
              "outlinewidth": 0,
              "ticks": ""
             }
            },
            "type": "scatterpolargl"
           }
          ],
          "scatterternary": [
           {
            "marker": {
             "colorbar": {
              "outlinewidth": 0,
              "ticks": ""
             }
            },
            "type": "scatterternary"
           }
          ],
          "surface": [
           {
            "colorbar": {
             "outlinewidth": 0,
             "ticks": ""
            },
            "colorscale": [
             [
              0,
              "#0d0887"
             ],
             [
              0.1111111111111111,
              "#46039f"
             ],
             [
              0.2222222222222222,
              "#7201a8"
             ],
             [
              0.3333333333333333,
              "#9c179e"
             ],
             [
              0.4444444444444444,
              "#bd3786"
             ],
             [
              0.5555555555555556,
              "#d8576b"
             ],
             [
              0.6666666666666666,
              "#ed7953"
             ],
             [
              0.7777777777777778,
              "#fb9f3a"
             ],
             [
              0.8888888888888888,
              "#fdca26"
             ],
             [
              1,
              "#f0f921"
             ]
            ],
            "type": "surface"
           }
          ],
          "table": [
           {
            "cells": {
             "fill": {
              "color": "#EBF0F8"
             },
             "line": {
              "color": "white"
             }
            },
            "header": {
             "fill": {
              "color": "#C8D4E3"
             },
             "line": {
              "color": "white"
             }
            },
            "type": "table"
           }
          ]
         },
         "layout": {
          "annotationdefaults": {
           "arrowcolor": "#2a3f5f",
           "arrowhead": 0,
           "arrowwidth": 1
          },
          "autotypenumbers": "strict",
          "coloraxis": {
           "colorbar": {
            "outlinewidth": 0,
            "ticks": ""
           }
          },
          "colorscale": {
           "diverging": [
            [
             0,
             "#8e0152"
            ],
            [
             0.1,
             "#c51b7d"
            ],
            [
             0.2,
             "#de77ae"
            ],
            [
             0.3,
             "#f1b6da"
            ],
            [
             0.4,
             "#fde0ef"
            ],
            [
             0.5,
             "#f7f7f7"
            ],
            [
             0.6,
             "#e6f5d0"
            ],
            [
             0.7,
             "#b8e186"
            ],
            [
             0.8,
             "#7fbc41"
            ],
            [
             0.9,
             "#4d9221"
            ],
            [
             1,
             "#276419"
            ]
           ],
           "sequential": [
            [
             0,
             "#0d0887"
            ],
            [
             0.1111111111111111,
             "#46039f"
            ],
            [
             0.2222222222222222,
             "#7201a8"
            ],
            [
             0.3333333333333333,
             "#9c179e"
            ],
            [
             0.4444444444444444,
             "#bd3786"
            ],
            [
             0.5555555555555556,
             "#d8576b"
            ],
            [
             0.6666666666666666,
             "#ed7953"
            ],
            [
             0.7777777777777778,
             "#fb9f3a"
            ],
            [
             0.8888888888888888,
             "#fdca26"
            ],
            [
             1,
             "#f0f921"
            ]
           ],
           "sequentialminus": [
            [
             0,
             "#0d0887"
            ],
            [
             0.1111111111111111,
             "#46039f"
            ],
            [
             0.2222222222222222,
             "#7201a8"
            ],
            [
             0.3333333333333333,
             "#9c179e"
            ],
            [
             0.4444444444444444,
             "#bd3786"
            ],
            [
             0.5555555555555556,
             "#d8576b"
            ],
            [
             0.6666666666666666,
             "#ed7953"
            ],
            [
             0.7777777777777778,
             "#fb9f3a"
            ],
            [
             0.8888888888888888,
             "#fdca26"
            ],
            [
             1,
             "#f0f921"
            ]
           ]
          },
          "colorway": [
           "#636efa",
           "#EF553B",
           "#00cc96",
           "#ab63fa",
           "#FFA15A",
           "#19d3f3",
           "#FF6692",
           "#B6E880",
           "#FF97FF",
           "#FECB52"
          ],
          "font": {
           "color": "#2a3f5f"
          },
          "geo": {
           "bgcolor": "white",
           "lakecolor": "white",
           "landcolor": "#E5ECF6",
           "showlakes": true,
           "showland": true,
           "subunitcolor": "white"
          },
          "hoverlabel": {
           "align": "left"
          },
          "hovermode": "closest",
          "mapbox": {
           "style": "light"
          },
          "paper_bgcolor": "white",
          "plot_bgcolor": "#E5ECF6",
          "polar": {
           "angularaxis": {
            "gridcolor": "white",
            "linecolor": "white",
            "ticks": ""
           },
           "bgcolor": "#E5ECF6",
           "radialaxis": {
            "gridcolor": "white",
            "linecolor": "white",
            "ticks": ""
           }
          },
          "scene": {
           "xaxis": {
            "backgroundcolor": "#E5ECF6",
            "gridcolor": "white",
            "gridwidth": 2,
            "linecolor": "white",
            "showbackground": true,
            "ticks": "",
            "zerolinecolor": "white"
           },
           "yaxis": {
            "backgroundcolor": "#E5ECF6",
            "gridcolor": "white",
            "gridwidth": 2,
            "linecolor": "white",
            "showbackground": true,
            "ticks": "",
            "zerolinecolor": "white"
           },
           "zaxis": {
            "backgroundcolor": "#E5ECF6",
            "gridcolor": "white",
            "gridwidth": 2,
            "linecolor": "white",
            "showbackground": true,
            "ticks": "",
            "zerolinecolor": "white"
           }
          },
          "shapedefaults": {
           "line": {
            "color": "#2a3f5f"
           }
          },
          "ternary": {
           "aaxis": {
            "gridcolor": "white",
            "linecolor": "white",
            "ticks": ""
           },
           "baxis": {
            "gridcolor": "white",
            "linecolor": "white",
            "ticks": ""
           },
           "bgcolor": "#E5ECF6",
           "caxis": {
            "gridcolor": "white",
            "linecolor": "white",
            "ticks": ""
           }
          },
          "title": {
           "x": 0.05
          },
          "xaxis": {
           "automargin": true,
           "gridcolor": "white",
           "linecolor": "white",
           "ticks": "",
           "title": {
            "standoff": 15
           },
           "zerolinecolor": "white",
           "zerolinewidth": 2
          },
          "yaxis": {
           "automargin": true,
           "gridcolor": "white",
           "linecolor": "white",
           "ticks": "",
           "title": {
            "standoff": 15
           },
           "zerolinecolor": "white",
           "zerolinewidth": 2
          }
         }
        },
        "title": {
         "text": "Number of People Diagnosed with Depressive Disorders by GENDER"
        }
       }
      }
     },
     "metadata": {},
     "output_type": "display_data"
    }
   ],
   "source": [
    "# plot gender pie chart\n",
    "depression_chart(df, \"GENDER\", map_dict2)"
   ]
  },
  {
   "cell_type": "code",
   "execution_count": 51,
   "metadata": {},
   "outputs": [],
   "source": [
    "def nummhs_bar(df):\n",
    "    \"\"\"\n",
    "    This function takes in a dataframe and creates a bar chart of the numer of\n",
    "    people with more than 2 mental health diagnoses reported in each age group.\n",
    "    \"\"\"\n",
    "    df = df[[\"AGE\", \"NUMMHS\"]] # get relevant columns\n",
    "    df = df[df[\"NUMMHS\"]>=2] # find patients with more than 2 diagnoses\n",
    "    df = df.dropna() # drop NaN values\n",
    "    # create a dictionary for age values\n",
    "    map_dict = {1: \"0–11\", 2: \"12–14\", 3: \"15–17\", 4: \"18–20\", 5: \"21–24\",\n",
    "                6: \"25–29\", 7: \"30–34\", 8: \"35–39\", 9: \"40–44\", 10: \"45–49\",\n",
    "                11: \"50–54\", 12: \"55–59\", 13: \"60–64\", 14: \"> 65\"}\n",
    "    df[\"AGE\"] = df[\"AGE\"].map(map_dict) # mape age to dictionary-defined values\n",
    "    # create the bar chart\n",
    "    fig = px.bar(df,\n",
    "                 y = df.groupby([\"AGE\"]).size(),\n",
    "                 x = df.groupby(\"AGE\").groups.keys(),\n",
    "                 text = df.groupby([\"AGE\"]).size(),\n",
    "                 title = \"Number of Patients with More than 2 Mental Health Diagnoses Reported in Each Age Group\",\n",
    "                 labels = {'x': 'Age (Years)', 'y':'Number of Patients'})\n",
    "    fig.show()"
   ]
  },
  {
   "cell_type": "code",
   "execution_count": 52,
   "metadata": {},
   "outputs": [
    {
     "data": {
      "application/vnd.plotly.v1+json": {
       "config": {
        "plotlyServerURL": "https://plot.ly"
       },
       "data": [
        {
         "alignmentgroup": "True",
         "hovertemplate": "Age (Years)=%{x}<br>Number of Patients=%{y}<br>text=%{text}<extra></extra>",
         "legendgroup": "",
         "marker": {
          "color": "#636efa",
          "pattern": {
           "shape": ""
          }
         },
         "name": "",
         "offsetgroup": "",
         "orientation": "v",
         "showlegend": false,
         "text": [
          211608,
          136955,
          154037,
          97061,
          113990,
          178064,
          174454,
          164090,
          136662,
          137294,
          139550,
          130931,
          88444,
          92959
         ],
         "textposition": "auto",
         "type": "bar",
         "x": [
          "0–11",
          "12–14",
          "15–17",
          "18–20",
          "21–24",
          "25–29",
          "30–34",
          "35–39",
          "40–44",
          "45–49",
          "50–54",
          "55–59",
          "60–64",
          "> 65"
         ],
         "xaxis": "x",
         "y": [
          211608,
          136955,
          154037,
          97061,
          113990,
          178064,
          174454,
          164090,
          136662,
          137294,
          139550,
          130931,
          88444,
          92959
         ],
         "yaxis": "y"
        }
       ],
       "layout": {
        "barmode": "relative",
        "legend": {
         "tracegroupgap": 0
        },
        "template": {
         "data": {
          "bar": [
           {
            "error_x": {
             "color": "#2a3f5f"
            },
            "error_y": {
             "color": "#2a3f5f"
            },
            "marker": {
             "line": {
              "color": "#E5ECF6",
              "width": 0.5
             },
             "pattern": {
              "fillmode": "overlay",
              "size": 10,
              "solidity": 0.2
             }
            },
            "type": "bar"
           }
          ],
          "barpolar": [
           {
            "marker": {
             "line": {
              "color": "#E5ECF6",
              "width": 0.5
             },
             "pattern": {
              "fillmode": "overlay",
              "size": 10,
              "solidity": 0.2
             }
            },
            "type": "barpolar"
           }
          ],
          "carpet": [
           {
            "aaxis": {
             "endlinecolor": "#2a3f5f",
             "gridcolor": "white",
             "linecolor": "white",
             "minorgridcolor": "white",
             "startlinecolor": "#2a3f5f"
            },
            "baxis": {
             "endlinecolor": "#2a3f5f",
             "gridcolor": "white",
             "linecolor": "white",
             "minorgridcolor": "white",
             "startlinecolor": "#2a3f5f"
            },
            "type": "carpet"
           }
          ],
          "choropleth": [
           {
            "colorbar": {
             "outlinewidth": 0,
             "ticks": ""
            },
            "type": "choropleth"
           }
          ],
          "contour": [
           {
            "colorbar": {
             "outlinewidth": 0,
             "ticks": ""
            },
            "colorscale": [
             [
              0,
              "#0d0887"
             ],
             [
              0.1111111111111111,
              "#46039f"
             ],
             [
              0.2222222222222222,
              "#7201a8"
             ],
             [
              0.3333333333333333,
              "#9c179e"
             ],
             [
              0.4444444444444444,
              "#bd3786"
             ],
             [
              0.5555555555555556,
              "#d8576b"
             ],
             [
              0.6666666666666666,
              "#ed7953"
             ],
             [
              0.7777777777777778,
              "#fb9f3a"
             ],
             [
              0.8888888888888888,
              "#fdca26"
             ],
             [
              1,
              "#f0f921"
             ]
            ],
            "type": "contour"
           }
          ],
          "contourcarpet": [
           {
            "colorbar": {
             "outlinewidth": 0,
             "ticks": ""
            },
            "type": "contourcarpet"
           }
          ],
          "heatmap": [
           {
            "colorbar": {
             "outlinewidth": 0,
             "ticks": ""
            },
            "colorscale": [
             [
              0,
              "#0d0887"
             ],
             [
              0.1111111111111111,
              "#46039f"
             ],
             [
              0.2222222222222222,
              "#7201a8"
             ],
             [
              0.3333333333333333,
              "#9c179e"
             ],
             [
              0.4444444444444444,
              "#bd3786"
             ],
             [
              0.5555555555555556,
              "#d8576b"
             ],
             [
              0.6666666666666666,
              "#ed7953"
             ],
             [
              0.7777777777777778,
              "#fb9f3a"
             ],
             [
              0.8888888888888888,
              "#fdca26"
             ],
             [
              1,
              "#f0f921"
             ]
            ],
            "type": "heatmap"
           }
          ],
          "heatmapgl": [
           {
            "colorbar": {
             "outlinewidth": 0,
             "ticks": ""
            },
            "colorscale": [
             [
              0,
              "#0d0887"
             ],
             [
              0.1111111111111111,
              "#46039f"
             ],
             [
              0.2222222222222222,
              "#7201a8"
             ],
             [
              0.3333333333333333,
              "#9c179e"
             ],
             [
              0.4444444444444444,
              "#bd3786"
             ],
             [
              0.5555555555555556,
              "#d8576b"
             ],
             [
              0.6666666666666666,
              "#ed7953"
             ],
             [
              0.7777777777777778,
              "#fb9f3a"
             ],
             [
              0.8888888888888888,
              "#fdca26"
             ],
             [
              1,
              "#f0f921"
             ]
            ],
            "type": "heatmapgl"
           }
          ],
          "histogram": [
           {
            "marker": {
             "pattern": {
              "fillmode": "overlay",
              "size": 10,
              "solidity": 0.2
             }
            },
            "type": "histogram"
           }
          ],
          "histogram2d": [
           {
            "colorbar": {
             "outlinewidth": 0,
             "ticks": ""
            },
            "colorscale": [
             [
              0,
              "#0d0887"
             ],
             [
              0.1111111111111111,
              "#46039f"
             ],
             [
              0.2222222222222222,
              "#7201a8"
             ],
             [
              0.3333333333333333,
              "#9c179e"
             ],
             [
              0.4444444444444444,
              "#bd3786"
             ],
             [
              0.5555555555555556,
              "#d8576b"
             ],
             [
              0.6666666666666666,
              "#ed7953"
             ],
             [
              0.7777777777777778,
              "#fb9f3a"
             ],
             [
              0.8888888888888888,
              "#fdca26"
             ],
             [
              1,
              "#f0f921"
             ]
            ],
            "type": "histogram2d"
           }
          ],
          "histogram2dcontour": [
           {
            "colorbar": {
             "outlinewidth": 0,
             "ticks": ""
            },
            "colorscale": [
             [
              0,
              "#0d0887"
             ],
             [
              0.1111111111111111,
              "#46039f"
             ],
             [
              0.2222222222222222,
              "#7201a8"
             ],
             [
              0.3333333333333333,
              "#9c179e"
             ],
             [
              0.4444444444444444,
              "#bd3786"
             ],
             [
              0.5555555555555556,
              "#d8576b"
             ],
             [
              0.6666666666666666,
              "#ed7953"
             ],
             [
              0.7777777777777778,
              "#fb9f3a"
             ],
             [
              0.8888888888888888,
              "#fdca26"
             ],
             [
              1,
              "#f0f921"
             ]
            ],
            "type": "histogram2dcontour"
           }
          ],
          "mesh3d": [
           {
            "colorbar": {
             "outlinewidth": 0,
             "ticks": ""
            },
            "type": "mesh3d"
           }
          ],
          "parcoords": [
           {
            "line": {
             "colorbar": {
              "outlinewidth": 0,
              "ticks": ""
             }
            },
            "type": "parcoords"
           }
          ],
          "pie": [
           {
            "automargin": true,
            "type": "pie"
           }
          ],
          "scatter": [
           {
            "marker": {
             "colorbar": {
              "outlinewidth": 0,
              "ticks": ""
             }
            },
            "type": "scatter"
           }
          ],
          "scatter3d": [
           {
            "line": {
             "colorbar": {
              "outlinewidth": 0,
              "ticks": ""
             }
            },
            "marker": {
             "colorbar": {
              "outlinewidth": 0,
              "ticks": ""
             }
            },
            "type": "scatter3d"
           }
          ],
          "scattercarpet": [
           {
            "marker": {
             "colorbar": {
              "outlinewidth": 0,
              "ticks": ""
             }
            },
            "type": "scattercarpet"
           }
          ],
          "scattergeo": [
           {
            "marker": {
             "colorbar": {
              "outlinewidth": 0,
              "ticks": ""
             }
            },
            "type": "scattergeo"
           }
          ],
          "scattergl": [
           {
            "marker": {
             "colorbar": {
              "outlinewidth": 0,
              "ticks": ""
             }
            },
            "type": "scattergl"
           }
          ],
          "scattermapbox": [
           {
            "marker": {
             "colorbar": {
              "outlinewidth": 0,
              "ticks": ""
             }
            },
            "type": "scattermapbox"
           }
          ],
          "scatterpolar": [
           {
            "marker": {
             "colorbar": {
              "outlinewidth": 0,
              "ticks": ""
             }
            },
            "type": "scatterpolar"
           }
          ],
          "scatterpolargl": [
           {
            "marker": {
             "colorbar": {
              "outlinewidth": 0,
              "ticks": ""
             }
            },
            "type": "scatterpolargl"
           }
          ],
          "scatterternary": [
           {
            "marker": {
             "colorbar": {
              "outlinewidth": 0,
              "ticks": ""
             }
            },
            "type": "scatterternary"
           }
          ],
          "surface": [
           {
            "colorbar": {
             "outlinewidth": 0,
             "ticks": ""
            },
            "colorscale": [
             [
              0,
              "#0d0887"
             ],
             [
              0.1111111111111111,
              "#46039f"
             ],
             [
              0.2222222222222222,
              "#7201a8"
             ],
             [
              0.3333333333333333,
              "#9c179e"
             ],
             [
              0.4444444444444444,
              "#bd3786"
             ],
             [
              0.5555555555555556,
              "#d8576b"
             ],
             [
              0.6666666666666666,
              "#ed7953"
             ],
             [
              0.7777777777777778,
              "#fb9f3a"
             ],
             [
              0.8888888888888888,
              "#fdca26"
             ],
             [
              1,
              "#f0f921"
             ]
            ],
            "type": "surface"
           }
          ],
          "table": [
           {
            "cells": {
             "fill": {
              "color": "#EBF0F8"
             },
             "line": {
              "color": "white"
             }
            },
            "header": {
             "fill": {
              "color": "#C8D4E3"
             },
             "line": {
              "color": "white"
             }
            },
            "type": "table"
           }
          ]
         },
         "layout": {
          "annotationdefaults": {
           "arrowcolor": "#2a3f5f",
           "arrowhead": 0,
           "arrowwidth": 1
          },
          "autotypenumbers": "strict",
          "coloraxis": {
           "colorbar": {
            "outlinewidth": 0,
            "ticks": ""
           }
          },
          "colorscale": {
           "diverging": [
            [
             0,
             "#8e0152"
            ],
            [
             0.1,
             "#c51b7d"
            ],
            [
             0.2,
             "#de77ae"
            ],
            [
             0.3,
             "#f1b6da"
            ],
            [
             0.4,
             "#fde0ef"
            ],
            [
             0.5,
             "#f7f7f7"
            ],
            [
             0.6,
             "#e6f5d0"
            ],
            [
             0.7,
             "#b8e186"
            ],
            [
             0.8,
             "#7fbc41"
            ],
            [
             0.9,
             "#4d9221"
            ],
            [
             1,
             "#276419"
            ]
           ],
           "sequential": [
            [
             0,
             "#0d0887"
            ],
            [
             0.1111111111111111,
             "#46039f"
            ],
            [
             0.2222222222222222,
             "#7201a8"
            ],
            [
             0.3333333333333333,
             "#9c179e"
            ],
            [
             0.4444444444444444,
             "#bd3786"
            ],
            [
             0.5555555555555556,
             "#d8576b"
            ],
            [
             0.6666666666666666,
             "#ed7953"
            ],
            [
             0.7777777777777778,
             "#fb9f3a"
            ],
            [
             0.8888888888888888,
             "#fdca26"
            ],
            [
             1,
             "#f0f921"
            ]
           ],
           "sequentialminus": [
            [
             0,
             "#0d0887"
            ],
            [
             0.1111111111111111,
             "#46039f"
            ],
            [
             0.2222222222222222,
             "#7201a8"
            ],
            [
             0.3333333333333333,
             "#9c179e"
            ],
            [
             0.4444444444444444,
             "#bd3786"
            ],
            [
             0.5555555555555556,
             "#d8576b"
            ],
            [
             0.6666666666666666,
             "#ed7953"
            ],
            [
             0.7777777777777778,
             "#fb9f3a"
            ],
            [
             0.8888888888888888,
             "#fdca26"
            ],
            [
             1,
             "#f0f921"
            ]
           ]
          },
          "colorway": [
           "#636efa",
           "#EF553B",
           "#00cc96",
           "#ab63fa",
           "#FFA15A",
           "#19d3f3",
           "#FF6692",
           "#B6E880",
           "#FF97FF",
           "#FECB52"
          ],
          "font": {
           "color": "#2a3f5f"
          },
          "geo": {
           "bgcolor": "white",
           "lakecolor": "white",
           "landcolor": "#E5ECF6",
           "showlakes": true,
           "showland": true,
           "subunitcolor": "white"
          },
          "hoverlabel": {
           "align": "left"
          },
          "hovermode": "closest",
          "mapbox": {
           "style": "light"
          },
          "paper_bgcolor": "white",
          "plot_bgcolor": "#E5ECF6",
          "polar": {
           "angularaxis": {
            "gridcolor": "white",
            "linecolor": "white",
            "ticks": ""
           },
           "bgcolor": "#E5ECF6",
           "radialaxis": {
            "gridcolor": "white",
            "linecolor": "white",
            "ticks": ""
           }
          },
          "scene": {
           "xaxis": {
            "backgroundcolor": "#E5ECF6",
            "gridcolor": "white",
            "gridwidth": 2,
            "linecolor": "white",
            "showbackground": true,
            "ticks": "",
            "zerolinecolor": "white"
           },
           "yaxis": {
            "backgroundcolor": "#E5ECF6",
            "gridcolor": "white",
            "gridwidth": 2,
            "linecolor": "white",
            "showbackground": true,
            "ticks": "",
            "zerolinecolor": "white"
           },
           "zaxis": {
            "backgroundcolor": "#E5ECF6",
            "gridcolor": "white",
            "gridwidth": 2,
            "linecolor": "white",
            "showbackground": true,
            "ticks": "",
            "zerolinecolor": "white"
           }
          },
          "shapedefaults": {
           "line": {
            "color": "#2a3f5f"
           }
          },
          "ternary": {
           "aaxis": {
            "gridcolor": "white",
            "linecolor": "white",
            "ticks": ""
           },
           "baxis": {
            "gridcolor": "white",
            "linecolor": "white",
            "ticks": ""
           },
           "bgcolor": "#E5ECF6",
           "caxis": {
            "gridcolor": "white",
            "linecolor": "white",
            "ticks": ""
           }
          },
          "title": {
           "x": 0.05
          },
          "xaxis": {
           "automargin": true,
           "gridcolor": "white",
           "linecolor": "white",
           "ticks": "",
           "title": {
            "standoff": 15
           },
           "zerolinecolor": "white",
           "zerolinewidth": 2
          },
          "yaxis": {
           "automargin": true,
           "gridcolor": "white",
           "linecolor": "white",
           "ticks": "",
           "title": {
            "standoff": 15
           },
           "zerolinecolor": "white",
           "zerolinewidth": 2
          }
         }
        },
        "title": {
         "text": "Number of Patients with More than 2 Mental Health Diagnoses Reported in Each Age Group"
        },
        "xaxis": {
         "anchor": "y",
         "domain": [
          0,
          1
         ],
         "title": {
          "text": "Age (Years)"
         }
        },
        "yaxis": {
         "anchor": "x",
         "domain": [
          0,
          1
         ],
         "title": {
          "text": "Number of Patients"
         }
        }
       }
      }
     },
     "metadata": {},
     "output_type": "display_data"
    }
   ],
   "source": [
    "nummhs_bar(df)"
   ]
  },
  {
   "cell_type": "code",
   "execution_count": 58,
   "metadata": {},
   "outputs": [],
   "source": [
    "def plot_states(df):\n",
    "    \"\"\"\n",
    "    This function plots the average number of mental health diagnoses reported\n",
    "    per individual vs. average age of patients in each state where the size of\n",
    "    the state on the plot is controlled by the number of individuals who are\n",
    "    from this state.\n",
    "    \"\"\"\n",
    "    df = df[[\"STATEFIP\", \"NUMMHS\", \"AGE\"]]\n",
    "    df = df.dropna()\n",
    "    # create a dictionary of states names\n",
    "    states = pd.read_csv(\"state-fips.csv\", header=None).set_index(0)\n",
    "    states_dict = states.to_dict()[1]\n",
    "    states_dict[72] = \"Puerto Rico\"\n",
    "    states_dict[99] = \"Other jurisdictions\"\n",
    "    # map state values to state names\n",
    "    df[\"STATEFIP\"] = df[\"STATEFIP\"].map(states_dict)\n",
    "    # create plot\n",
    "    fig = px.scatter(df,\n",
    "                     x = df.groupby(\"STATEFIP\")[\"AGE\"].mean(),\n",
    "                     y = df.groupby(\"STATEFIP\")[\"NUMMHS\"].mean(), \n",
    "                     size = df.groupby(\"STATEFIP\").size(),\n",
    "                     color = df.groupby(\"STATEFIP\").groups.keys(),\n",
    "                     hover_name = df.groupby(\"STATEFIP\").groups.keys(),\n",
    "                     title = \"Average Number of Mental Health Diagnoses Reported vs. Average Age\",\n",
    "                     labels = {'x': 'Age (Years)', 'y':'Average Number of Mental Health Diagnoses'})\n",
    "    fig.update_layout(xaxis = dict(tickmode = 'array',\n",
    "                                   tickvals = [5, 6, 7, 8, 9, 10],\n",
    "                                   ticktext = [\"21–24\", \"25–29\", \"30–34\", \"35–39\", \"40–44\", \"45–49\"]))\n",
    "    fig.show()"
   ]
  },
  {
   "cell_type": "code",
   "execution_count": 59,
   "metadata": {},
   "outputs": [
    {
     "data": {
      "application/vnd.plotly.v1+json": {
       "config": {
        "plotlyServerURL": "https://plot.ly"
       },
       "data": [
        {
         "hovertemplate": "<b>%{hovertext}</b><br><br>color=Other jurisdictions<br>Age (Years)=%{x}<br>Average Number of Mental Health Diagnoses=%{y}<br>size=%{marker.size}<extra></extra>",
         "hovertext": [
          "Other jurisdictions"
         ],
         "legendgroup": "Other jurisdictions",
         "marker": {
          "color": "#636efa",
          "size": [
           526
          ],
          "sizemode": "area",
          "sizeref": 9.8675,
          "symbol": "circle"
         },
         "mode": "markers",
         "name": "Other jurisdictions",
         "orientation": "v",
         "showlegend": true,
         "type": "scatter",
         "x": [
          7.998098859315589
         ],
         "xaxis": "x",
         "y": [
          0.8384030418250951
         ],
         "yaxis": "y"
        },
        {
         "hovertemplate": "<b>%{hovertext}</b><br><br>color=Puerto Rico<br>Age (Years)=%{x}<br>Average Number of Mental Health Diagnoses=%{y}<br>size=%{marker.size}<extra></extra>",
         "hovertext": [
          "Puerto Rico"
         ],
         "legendgroup": "Puerto Rico",
         "marker": {
          "color": "#EF553B",
          "size": [
           3947
          ],
          "sizemode": "area",
          "sizeref": 9.8675,
          "symbol": "circle"
         },
         "mode": "markers",
         "name": "Puerto Rico",
         "orientation": "v",
         "showlegend": true,
         "type": "scatter",
         "x": [
          8.482138332911072
         ],
         "xaxis": "x",
         "y": [
          1.2442361287053458
         ],
         "yaxis": "y"
        }
       ],
       "layout": {
        "legend": {
         "itemsizing": "constant",
         "title": {
          "text": "color"
         },
         "tracegroupgap": 0
        },
        "template": {
         "data": {
          "bar": [
           {
            "error_x": {
             "color": "#2a3f5f"
            },
            "error_y": {
             "color": "#2a3f5f"
            },
            "marker": {
             "line": {
              "color": "#E5ECF6",
              "width": 0.5
             },
             "pattern": {
              "fillmode": "overlay",
              "size": 10,
              "solidity": 0.2
             }
            },
            "type": "bar"
           }
          ],
          "barpolar": [
           {
            "marker": {
             "line": {
              "color": "#E5ECF6",
              "width": 0.5
             },
             "pattern": {
              "fillmode": "overlay",
              "size": 10,
              "solidity": 0.2
             }
            },
            "type": "barpolar"
           }
          ],
          "carpet": [
           {
            "aaxis": {
             "endlinecolor": "#2a3f5f",
             "gridcolor": "white",
             "linecolor": "white",
             "minorgridcolor": "white",
             "startlinecolor": "#2a3f5f"
            },
            "baxis": {
             "endlinecolor": "#2a3f5f",
             "gridcolor": "white",
             "linecolor": "white",
             "minorgridcolor": "white",
             "startlinecolor": "#2a3f5f"
            },
            "type": "carpet"
           }
          ],
          "choropleth": [
           {
            "colorbar": {
             "outlinewidth": 0,
             "ticks": ""
            },
            "type": "choropleth"
           }
          ],
          "contour": [
           {
            "colorbar": {
             "outlinewidth": 0,
             "ticks": ""
            },
            "colorscale": [
             [
              0,
              "#0d0887"
             ],
             [
              0.1111111111111111,
              "#46039f"
             ],
             [
              0.2222222222222222,
              "#7201a8"
             ],
             [
              0.3333333333333333,
              "#9c179e"
             ],
             [
              0.4444444444444444,
              "#bd3786"
             ],
             [
              0.5555555555555556,
              "#d8576b"
             ],
             [
              0.6666666666666666,
              "#ed7953"
             ],
             [
              0.7777777777777778,
              "#fb9f3a"
             ],
             [
              0.8888888888888888,
              "#fdca26"
             ],
             [
              1,
              "#f0f921"
             ]
            ],
            "type": "contour"
           }
          ],
          "contourcarpet": [
           {
            "colorbar": {
             "outlinewidth": 0,
             "ticks": ""
            },
            "type": "contourcarpet"
           }
          ],
          "heatmap": [
           {
            "colorbar": {
             "outlinewidth": 0,
             "ticks": ""
            },
            "colorscale": [
             [
              0,
              "#0d0887"
             ],
             [
              0.1111111111111111,
              "#46039f"
             ],
             [
              0.2222222222222222,
              "#7201a8"
             ],
             [
              0.3333333333333333,
              "#9c179e"
             ],
             [
              0.4444444444444444,
              "#bd3786"
             ],
             [
              0.5555555555555556,
              "#d8576b"
             ],
             [
              0.6666666666666666,
              "#ed7953"
             ],
             [
              0.7777777777777778,
              "#fb9f3a"
             ],
             [
              0.8888888888888888,
              "#fdca26"
             ],
             [
              1,
              "#f0f921"
             ]
            ],
            "type": "heatmap"
           }
          ],
          "heatmapgl": [
           {
            "colorbar": {
             "outlinewidth": 0,
             "ticks": ""
            },
            "colorscale": [
             [
              0,
              "#0d0887"
             ],
             [
              0.1111111111111111,
              "#46039f"
             ],
             [
              0.2222222222222222,
              "#7201a8"
             ],
             [
              0.3333333333333333,
              "#9c179e"
             ],
             [
              0.4444444444444444,
              "#bd3786"
             ],
             [
              0.5555555555555556,
              "#d8576b"
             ],
             [
              0.6666666666666666,
              "#ed7953"
             ],
             [
              0.7777777777777778,
              "#fb9f3a"
             ],
             [
              0.8888888888888888,
              "#fdca26"
             ],
             [
              1,
              "#f0f921"
             ]
            ],
            "type": "heatmapgl"
           }
          ],
          "histogram": [
           {
            "marker": {
             "pattern": {
              "fillmode": "overlay",
              "size": 10,
              "solidity": 0.2
             }
            },
            "type": "histogram"
           }
          ],
          "histogram2d": [
           {
            "colorbar": {
             "outlinewidth": 0,
             "ticks": ""
            },
            "colorscale": [
             [
              0,
              "#0d0887"
             ],
             [
              0.1111111111111111,
              "#46039f"
             ],
             [
              0.2222222222222222,
              "#7201a8"
             ],
             [
              0.3333333333333333,
              "#9c179e"
             ],
             [
              0.4444444444444444,
              "#bd3786"
             ],
             [
              0.5555555555555556,
              "#d8576b"
             ],
             [
              0.6666666666666666,
              "#ed7953"
             ],
             [
              0.7777777777777778,
              "#fb9f3a"
             ],
             [
              0.8888888888888888,
              "#fdca26"
             ],
             [
              1,
              "#f0f921"
             ]
            ],
            "type": "histogram2d"
           }
          ],
          "histogram2dcontour": [
           {
            "colorbar": {
             "outlinewidth": 0,
             "ticks": ""
            },
            "colorscale": [
             [
              0,
              "#0d0887"
             ],
             [
              0.1111111111111111,
              "#46039f"
             ],
             [
              0.2222222222222222,
              "#7201a8"
             ],
             [
              0.3333333333333333,
              "#9c179e"
             ],
             [
              0.4444444444444444,
              "#bd3786"
             ],
             [
              0.5555555555555556,
              "#d8576b"
             ],
             [
              0.6666666666666666,
              "#ed7953"
             ],
             [
              0.7777777777777778,
              "#fb9f3a"
             ],
             [
              0.8888888888888888,
              "#fdca26"
             ],
             [
              1,
              "#f0f921"
             ]
            ],
            "type": "histogram2dcontour"
           }
          ],
          "mesh3d": [
           {
            "colorbar": {
             "outlinewidth": 0,
             "ticks": ""
            },
            "type": "mesh3d"
           }
          ],
          "parcoords": [
           {
            "line": {
             "colorbar": {
              "outlinewidth": 0,
              "ticks": ""
             }
            },
            "type": "parcoords"
           }
          ],
          "pie": [
           {
            "automargin": true,
            "type": "pie"
           }
          ],
          "scatter": [
           {
            "marker": {
             "colorbar": {
              "outlinewidth": 0,
              "ticks": ""
             }
            },
            "type": "scatter"
           }
          ],
          "scatter3d": [
           {
            "line": {
             "colorbar": {
              "outlinewidth": 0,
              "ticks": ""
             }
            },
            "marker": {
             "colorbar": {
              "outlinewidth": 0,
              "ticks": ""
             }
            },
            "type": "scatter3d"
           }
          ],
          "scattercarpet": [
           {
            "marker": {
             "colorbar": {
              "outlinewidth": 0,
              "ticks": ""
             }
            },
            "type": "scattercarpet"
           }
          ],
          "scattergeo": [
           {
            "marker": {
             "colorbar": {
              "outlinewidth": 0,
              "ticks": ""
             }
            },
            "type": "scattergeo"
           }
          ],
          "scattergl": [
           {
            "marker": {
             "colorbar": {
              "outlinewidth": 0,
              "ticks": ""
             }
            },
            "type": "scattergl"
           }
          ],
          "scattermapbox": [
           {
            "marker": {
             "colorbar": {
              "outlinewidth": 0,
              "ticks": ""
             }
            },
            "type": "scattermapbox"
           }
          ],
          "scatterpolar": [
           {
            "marker": {
             "colorbar": {
              "outlinewidth": 0,
              "ticks": ""
             }
            },
            "type": "scatterpolar"
           }
          ],
          "scatterpolargl": [
           {
            "marker": {
             "colorbar": {
              "outlinewidth": 0,
              "ticks": ""
             }
            },
            "type": "scatterpolargl"
           }
          ],
          "scatterternary": [
           {
            "marker": {
             "colorbar": {
              "outlinewidth": 0,
              "ticks": ""
             }
            },
            "type": "scatterternary"
           }
          ],
          "surface": [
           {
            "colorbar": {
             "outlinewidth": 0,
             "ticks": ""
            },
            "colorscale": [
             [
              0,
              "#0d0887"
             ],
             [
              0.1111111111111111,
              "#46039f"
             ],
             [
              0.2222222222222222,
              "#7201a8"
             ],
             [
              0.3333333333333333,
              "#9c179e"
             ],
             [
              0.4444444444444444,
              "#bd3786"
             ],
             [
              0.5555555555555556,
              "#d8576b"
             ],
             [
              0.6666666666666666,
              "#ed7953"
             ],
             [
              0.7777777777777778,
              "#fb9f3a"
             ],
             [
              0.8888888888888888,
              "#fdca26"
             ],
             [
              1,
              "#f0f921"
             ]
            ],
            "type": "surface"
           }
          ],
          "table": [
           {
            "cells": {
             "fill": {
              "color": "#EBF0F8"
             },
             "line": {
              "color": "white"
             }
            },
            "header": {
             "fill": {
              "color": "#C8D4E3"
             },
             "line": {
              "color": "white"
             }
            },
            "type": "table"
           }
          ]
         },
         "layout": {
          "annotationdefaults": {
           "arrowcolor": "#2a3f5f",
           "arrowhead": 0,
           "arrowwidth": 1
          },
          "autotypenumbers": "strict",
          "coloraxis": {
           "colorbar": {
            "outlinewidth": 0,
            "ticks": ""
           }
          },
          "colorscale": {
           "diverging": [
            [
             0,
             "#8e0152"
            ],
            [
             0.1,
             "#c51b7d"
            ],
            [
             0.2,
             "#de77ae"
            ],
            [
             0.3,
             "#f1b6da"
            ],
            [
             0.4,
             "#fde0ef"
            ],
            [
             0.5,
             "#f7f7f7"
            ],
            [
             0.6,
             "#e6f5d0"
            ],
            [
             0.7,
             "#b8e186"
            ],
            [
             0.8,
             "#7fbc41"
            ],
            [
             0.9,
             "#4d9221"
            ],
            [
             1,
             "#276419"
            ]
           ],
           "sequential": [
            [
             0,
             "#0d0887"
            ],
            [
             0.1111111111111111,
             "#46039f"
            ],
            [
             0.2222222222222222,
             "#7201a8"
            ],
            [
             0.3333333333333333,
             "#9c179e"
            ],
            [
             0.4444444444444444,
             "#bd3786"
            ],
            [
             0.5555555555555556,
             "#d8576b"
            ],
            [
             0.6666666666666666,
             "#ed7953"
            ],
            [
             0.7777777777777778,
             "#fb9f3a"
            ],
            [
             0.8888888888888888,
             "#fdca26"
            ],
            [
             1,
             "#f0f921"
            ]
           ],
           "sequentialminus": [
            [
             0,
             "#0d0887"
            ],
            [
             0.1111111111111111,
             "#46039f"
            ],
            [
             0.2222222222222222,
             "#7201a8"
            ],
            [
             0.3333333333333333,
             "#9c179e"
            ],
            [
             0.4444444444444444,
             "#bd3786"
            ],
            [
             0.5555555555555556,
             "#d8576b"
            ],
            [
             0.6666666666666666,
             "#ed7953"
            ],
            [
             0.7777777777777778,
             "#fb9f3a"
            ],
            [
             0.8888888888888888,
             "#fdca26"
            ],
            [
             1,
             "#f0f921"
            ]
           ]
          },
          "colorway": [
           "#636efa",
           "#EF553B",
           "#00cc96",
           "#ab63fa",
           "#FFA15A",
           "#19d3f3",
           "#FF6692",
           "#B6E880",
           "#FF97FF",
           "#FECB52"
          ],
          "font": {
           "color": "#2a3f5f"
          },
          "geo": {
           "bgcolor": "white",
           "lakecolor": "white",
           "landcolor": "#E5ECF6",
           "showlakes": true,
           "showland": true,
           "subunitcolor": "white"
          },
          "hoverlabel": {
           "align": "left"
          },
          "hovermode": "closest",
          "mapbox": {
           "style": "light"
          },
          "paper_bgcolor": "white",
          "plot_bgcolor": "#E5ECF6",
          "polar": {
           "angularaxis": {
            "gridcolor": "white",
            "linecolor": "white",
            "ticks": ""
           },
           "bgcolor": "#E5ECF6",
           "radialaxis": {
            "gridcolor": "white",
            "linecolor": "white",
            "ticks": ""
           }
          },
          "scene": {
           "xaxis": {
            "backgroundcolor": "#E5ECF6",
            "gridcolor": "white",
            "gridwidth": 2,
            "linecolor": "white",
            "showbackground": true,
            "ticks": "",
            "zerolinecolor": "white"
           },
           "yaxis": {
            "backgroundcolor": "#E5ECF6",
            "gridcolor": "white",
            "gridwidth": 2,
            "linecolor": "white",
            "showbackground": true,
            "ticks": "",
            "zerolinecolor": "white"
           },
           "zaxis": {
            "backgroundcolor": "#E5ECF6",
            "gridcolor": "white",
            "gridwidth": 2,
            "linecolor": "white",
            "showbackground": true,
            "ticks": "",
            "zerolinecolor": "white"
           }
          },
          "shapedefaults": {
           "line": {
            "color": "#2a3f5f"
           }
          },
          "ternary": {
           "aaxis": {
            "gridcolor": "white",
            "linecolor": "white",
            "ticks": ""
           },
           "baxis": {
            "gridcolor": "white",
            "linecolor": "white",
            "ticks": ""
           },
           "bgcolor": "#E5ECF6",
           "caxis": {
            "gridcolor": "white",
            "linecolor": "white",
            "ticks": ""
           }
          },
          "title": {
           "x": 0.05
          },
          "xaxis": {
           "automargin": true,
           "gridcolor": "white",
           "linecolor": "white",
           "ticks": "",
           "title": {
            "standoff": 15
           },
           "zerolinecolor": "white",
           "zerolinewidth": 2
          },
          "yaxis": {
           "automargin": true,
           "gridcolor": "white",
           "linecolor": "white",
           "ticks": "",
           "title": {
            "standoff": 15
           },
           "zerolinecolor": "white",
           "zerolinewidth": 2
          }
         }
        },
        "title": {
         "text": "Average Number of Mental Health Diagnoses Reported vs. Average Age"
        },
        "xaxis": {
         "anchor": "y",
         "domain": [
          0,
          1
         ],
         "tickmode": "array",
         "ticktext": [
          "21–24",
          "25–29",
          "30–34",
          "35–39",
          "40–44",
          "45–49"
         ],
         "tickvals": [
          5,
          6,
          7,
          8,
          9,
          10
         ],
         "title": {
          "text": "Age (Years)"
         }
        },
        "yaxis": {
         "anchor": "x",
         "domain": [
          0,
          1
         ],
         "title": {
          "text": "Average Number of Mental Health Diagnoses"
         }
        }
       }
      }
     },
     "metadata": {},
     "output_type": "display_data"
    }
   ],
   "source": [
    "plot_states(df)"
   ]
  },
  {
   "cell_type": "code",
   "execution_count": 60,
   "metadata": {},
   "outputs": [],
   "source": [
    "df[\"SAP\"] = df[\"SAP\"].map({2.0:0,1.0:1})"
   ]
  },
  {
   "cell_type": "code",
   "execution_count": 61,
   "metadata": {},
   "outputs": [
    {
     "data": {
      "image/png": "[encoded data removed]",
      "text/plain": [
       "<Figure size 772x360 with 1 Axes>"
      ]
     },
     "metadata": {
      "needs_background": "light"
     },
     "output_type": "display_data"
    }
   ],
   "source": [
    "import seaborn as sns\n",
    "\n",
    "label_age_range = [\"0-11\", \"12-14\", \"15-17\", \"18-20\", \"21-24\", \"25–29\", \"30–34\", \"35–39\", \"40–44\", \"45–49\",\n",
    "                \"50–54\", \"55–59\", \"60–64\", \"> 65\"]\n",
    "\n",
    "\n",
    "\n",
    "\n",
    "age_substance_use = sns.catplot(x=\"AGE\", y=\"SAP\", hue=\"GENDER\", data=df, kind=\"bar\",  ci=None, height=5, aspect=2, legend_out = True)\n",
    "age_substance_use.set_xticklabels(label_age_range)\n",
    "\n",
    "gender_list = [\"Male\",\"Female\"]\n",
    "for t, l in zip(age_substance_use._legend.texts, gender_list): t.set_text(l)\n",
    "\n",
    "\n",
    "\n",
    "plt.title('Probability of Substance Use Problem by Age and Gender')\n",
    "plt.ylabel('Probability of Substance Use Problem (x 100)')\n",
    "plt.xlabel('Age')\n",
    "\n",
    "plt.show()"
   ]
  },
  {
   "cell_type": "code",
   "execution_count": 62,
   "metadata": {},
   "outputs": [
    {
     "data": {
      "image/png": "[encoded data removed]",
      "text/plain": [
       "<Figure size 772x360 with 1 Axes>"
      ]
     },
     "metadata": {
      "needs_background": "light"
     },
     "output_type": "display_data"
    }
   ],
   "source": [
    "label_SMI_SED = [\"Series Mental Illness\", \"Serious Emotional Disturbance\", \"Neither\"]\n",
    "\n",
    "\n",
    "\n",
    "age_substance_use = sns.catplot(x=\"SMISED\", y=\"SAP\", hue=\"GENDER\", data=df, kind=\"bar\",  ci=None, height=5, aspect=2, legend_out = True)\n",
    "age_substance_use.set_xticklabels(label_SMI_SED)\n",
    "\n",
    "gender_list = [\"Male\",\"Female\"]\n",
    "for t, l in zip(age_substance_use._legend.texts, gender_list): t.set_text(l)\n",
    "\n",
    "\n",
    "\n",
    "plt.title('Probability of Substance Use Problem by Age and Gender')\n",
    "plt.ylabel('Probability of Substance Use Problem (x 100)')\n",
    "\n",
    "plt.show()"
   ]
  },
  {
   "cell_type": "code",
   "execution_count": null,
   "metadata": {},
   "outputs": [],
   "source": []
  },
  {
   "cell_type": "code",
   "execution_count": null,
   "metadata": {},
   "outputs": [],
   "source": []
  },
  {
   "cell_type": "code",
   "execution_count": 3,
   "metadata": {},
   "outputs": [],
   "source": [
    "y = df['MH1']-1\n",
    "X = df.drop(['MH1'], axis = 1)\n",
    "X_train, X_test, y_train, y_test = train_test_split(X,y, test_size=0.2)"
   ]
  },
  {
   "cell_type": "code",
   "execution_count": 4,
   "metadata": {},
   "outputs": [],
   "source": [
    "model = models.Sequential()\n",
    "model.add(layers.Dense(15, input_dim = 19, activation = 'relu'))\n",
    "model.add(layers.Dense(15, activation = 'relu'))\n",
    "model.add(layers.Dense(13, activation = 'softmax'))"
   ]
  },
  {
   "cell_type": "code",
   "execution_count": 5,
   "metadata": {},
   "outputs": [
    {
     "name": "stdout",
     "output_type": "stream",
     "text": [
      "Epoch 1/100\n",
      "2405/2405 [==============================] - 3s 1ms/step - loss: 2.4228 - accuracy: 0.2608 - val_loss: 2.3950 - val_accuracy: 0.2925\n",
      "Epoch 2/100\n",
      "2405/2405 [==============================] - 3s 1ms/step - loss: 2.3935 - accuracy: 0.2946 - val_loss: 2.3859 - val_accuracy: 0.3026\n",
      "Epoch 3/100\n",
      "2405/2405 [==============================] - 3s 1ms/step - loss: 2.3889 - accuracy: 0.2985 - val_loss: 2.3979 - val_accuracy: 0.2889\n",
      "Epoch 4/100\n",
      "2405/2405 [==============================] - 2s 1ms/step - loss: 2.3869 - accuracy: 0.3008 - val_loss: 2.3829 - val_accuracy: 0.3050\n",
      "Epoch 5/100\n",
      "2405/2405 [==============================] - 3s 1ms/step - loss: 2.3858 - accuracy: 0.3019 - val_loss: 2.3829 - val_accuracy: 0.3049\n",
      "Epoch 6/100\n",
      "2405/2405 [==============================] - 3s 1ms/step - loss: 2.3853 - accuracy: 0.3018 - val_loss: 2.3862 - val_accuracy: 0.3022\n",
      "Epoch 7/100\n",
      "2405/2405 [==============================] - 3s 1ms/step - loss: 2.3849 - accuracy: 0.3023 - val_loss: 2.3815 - val_accuracy: 0.3064\n",
      "Epoch 8/100\n",
      "2405/2405 [==============================] - 3s 1ms/step - loss: 2.3835 - accuracy: 0.3032 - val_loss: 2.3794 - val_accuracy: 0.3059\n",
      "Epoch 9/100\n",
      "2405/2405 [==============================] - 3s 1ms/step - loss: 2.3827 - accuracy: 0.3022 - val_loss: 2.3786 - val_accuracy: 0.3064\n",
      "Epoch 10/100\n",
      "2405/2405 [==============================] - 3s 1ms/step - loss: 2.3804 - accuracy: 0.3037 - val_loss: 2.3494 - val_accuracy: 0.3345\n",
      "Epoch 11/100\n",
      "2405/2405 [==============================] - 3s 1ms/step - loss: 2.3068 - accuracy: 0.3821 - val_loss: 2.2958 - val_accuracy: 0.3898\n",
      "Epoch 12/100\n",
      "2405/2405 [==============================] - 3s 1ms/step - loss: 2.2984 - accuracy: 0.3886 - val_loss: 2.3005 - val_accuracy: 0.3855\n",
      "Epoch 13/100\n",
      "2405/2405 [==============================] - 3s 1ms/step - loss: 2.2969 - accuracy: 0.3891 - val_loss: 2.2931 - val_accuracy: 0.3924\n",
      "Epoch 14/100\n",
      "2405/2405 [==============================] - 3s 1ms/step - loss: 2.2965 - accuracy: 0.3897 - val_loss: 2.2957 - val_accuracy: 0.3881\n",
      "Epoch 15/100\n",
      "2405/2405 [==============================] - 3s 1ms/step - loss: 2.2956 - accuracy: 0.3902 - val_loss: 2.2937 - val_accuracy: 0.3906\n",
      "Epoch 16/100\n",
      "2405/2405 [==============================] - 3s 1ms/step - loss: 2.2946 - accuracy: 0.3910 - val_loss: 2.2928 - val_accuracy: 0.3927\n",
      "Epoch 17/100\n",
      "2405/2405 [==============================] - 3s 1ms/step - loss: 2.2945 - accuracy: 0.3911 - val_loss: 2.3005 - val_accuracy: 0.3839\n",
      "Epoch 18/100\n",
      "2405/2405 [==============================] - 3s 1ms/step - loss: 2.2938 - accuracy: 0.3921 - val_loss: 2.2942 - val_accuracy: 0.3900\n",
      "Epoch 19/100\n",
      "2405/2405 [==============================] - 3s 1ms/step - loss: 2.2943 - accuracy: 0.3910 - val_loss: 2.2916 - val_accuracy: 0.3938\n",
      "Epoch 20/100\n",
      "2405/2405 [==============================] - 3s 1ms/step - loss: 2.2930 - accuracy: 0.3926 - val_loss: 2.2931 - val_accuracy: 0.3915\n",
      "Epoch 21/100\n",
      "2405/2405 [==============================] - 3s 1ms/step - loss: 2.2929 - accuracy: 0.3921 - val_loss: 2.2929 - val_accuracy: 0.3925\n",
      "Epoch 22/100\n",
      "2405/2405 [==============================] - 3s 1ms/step - loss: 2.2924 - accuracy: 0.3941 - val_loss: 2.2917 - val_accuracy: 0.3928\n",
      "Epoch 23/100\n",
      "2405/2405 [==============================] - 3s 1ms/step - loss: 2.2915 - accuracy: 0.3939 - val_loss: 2.2910 - val_accuracy: 0.3931\n",
      "Epoch 24/100\n",
      "2405/2405 [==============================] - 3s 1ms/step - loss: 2.2920 - accuracy: 0.3929 - val_loss: 2.2909 - val_accuracy: 0.3938\n",
      "Epoch 25/100\n",
      "2405/2405 [==============================] - 3s 1ms/step - loss: 2.2911 - accuracy: 0.3938 - val_loss: 2.2915 - val_accuracy: 0.3934\n",
      "Epoch 26/100\n",
      "2405/2405 [==============================] - 3s 1ms/step - loss: 2.2918 - accuracy: 0.3931 - val_loss: 2.2902 - val_accuracy: 0.3955\n",
      "Epoch 27/100\n",
      "2405/2405 [==============================] - 3s 1ms/step - loss: 2.2906 - accuracy: 0.3958 - val_loss: 2.2920 - val_accuracy: 0.3946\n",
      "Epoch 28/100\n",
      "2405/2405 [==============================] - 3s 1ms/step - loss: 2.2903 - accuracy: 0.3951 - val_loss: 2.2917 - val_accuracy: 0.3933\n",
      "Epoch 29/100\n",
      "2405/2405 [==============================] - 3s 1ms/step - loss: 2.2895 - accuracy: 0.3960 - val_loss: 2.2971 - val_accuracy: 0.3901\n",
      "Epoch 30/100\n",
      "2405/2405 [==============================] - 3s 1ms/step - loss: 2.2894 - accuracy: 0.3968 - val_loss: 2.2929 - val_accuracy: 0.3930\n",
      "Epoch 31/100\n",
      "2405/2405 [==============================] - 3s 1ms/step - loss: 2.2891 - accuracy: 0.3963 - val_loss: 2.2860 - val_accuracy: 0.4017\n",
      "Epoch 32/100\n",
      "2405/2405 [==============================] - 3s 1ms/step - loss: 2.2876 - accuracy: 0.3988 - val_loss: 2.2894 - val_accuracy: 0.3969\n",
      "Epoch 33/100\n",
      "2405/2405 [==============================] - 3s 1ms/step - loss: 2.2882 - accuracy: 0.3974 - val_loss: 2.2880 - val_accuracy: 0.3974\n",
      "Epoch 34/100\n",
      "2405/2405 [==============================] - 3s 1ms/step - loss: 2.2883 - accuracy: 0.3971 - val_loss: 2.2899 - val_accuracy: 0.3954\n",
      "Epoch 35/100\n",
      "2405/2405 [==============================] - 3s 1ms/step - loss: 2.2874 - accuracy: 0.3981 - val_loss: 2.2869 - val_accuracy: 0.3979\n",
      "Epoch 36/100\n",
      "2405/2405 [==============================] - 3s 1ms/step - loss: 2.2870 - accuracy: 0.3990 - val_loss: 2.2865 - val_accuracy: 0.4006\n",
      "Epoch 37/100\n",
      "2405/2405 [==============================] - 3s 1ms/step - loss: 2.2868 - accuracy: 0.3989 - val_loss: 2.2833 - val_accuracy: 0.4025\n",
      "Epoch 38/100\n",
      "2405/2405 [==============================] - 3s 1ms/step - loss: 2.2864 - accuracy: 0.3997 - val_loss: 2.2859 - val_accuracy: 0.4003\n",
      "Epoch 39/100\n",
      "2405/2405 [==============================] - 3s 1ms/step - loss: 2.2861 - accuracy: 0.4001 - val_loss: 2.2852 - val_accuracy: 0.4011\n",
      "Epoch 40/100\n",
      "2405/2405 [==============================] - 3s 1ms/step - loss: 2.2864 - accuracy: 0.3999 - val_loss: 2.2828 - val_accuracy: 0.4040\n",
      "Epoch 41/100\n",
      "2405/2405 [==============================] - 3s 1ms/step - loss: 2.2862 - accuracy: 0.3991 - val_loss: 2.2852 - val_accuracy: 0.4009\n",
      "Epoch 42/100\n",
      "2405/2405 [==============================] - 3s 1ms/step - loss: 2.2850 - accuracy: 0.4011 - val_loss: 2.2836 - val_accuracy: 0.4011\n",
      "Epoch 43/100\n",
      "2405/2405 [==============================] - 3s 1ms/step - loss: 2.2850 - accuracy: 0.4003 - val_loss: 2.2854 - val_accuracy: 0.4006\n",
      "Epoch 44/100\n",
      "2405/2405 [==============================] - 3s 1ms/step - loss: 2.2852 - accuracy: 0.4002 - val_loss: 2.2828 - val_accuracy: 0.4037\n",
      "Epoch 45/100\n",
      "2405/2405 [==============================] - 3s 1ms/step - loss: 2.2844 - accuracy: 0.4016 - val_loss: 2.2919 - val_accuracy: 0.3936\n",
      "Epoch 46/100\n",
      "2405/2405 [==============================] - 3s 1ms/step - loss: 2.2846 - accuracy: 0.4018 - val_loss: 2.2810 - val_accuracy: 0.4052\n",
      "Epoch 47/100\n",
      "2405/2405 [==============================] - 3s 1ms/step - loss: 2.2845 - accuracy: 0.4014 - val_loss: 2.2847 - val_accuracy: 0.4020\n",
      "Epoch 48/100\n",
      "2405/2405 [==============================] - 3s 1ms/step - loss: 2.2850 - accuracy: 0.4008 - val_loss: 2.2806 - val_accuracy: 0.4052\n",
      "Epoch 49/100\n",
      "2405/2405 [==============================] - 3s 1ms/step - loss: 2.2842 - accuracy: 0.4017 - val_loss: 2.2808 - val_accuracy: 0.4056\n",
      "Epoch 50/100\n",
      "2405/2405 [==============================] - 3s 1ms/step - loss: 2.2840 - accuracy: 0.4017 - val_loss: 2.2844 - val_accuracy: 0.4016\n",
      "Epoch 51/100\n",
      "2405/2405 [==============================] - 3s 1ms/step - loss: 2.2841 - accuracy: 0.4016 - val_loss: 2.2827 - val_accuracy: 0.4037\n",
      "Epoch 52/100\n",
      "2405/2405 [==============================] - 3s 1ms/step - loss: 2.2842 - accuracy: 0.4019 - val_loss: 2.2816 - val_accuracy: 0.4052\n",
      "Epoch 53/100\n",
      "2405/2405 [==============================] - 3s 1ms/step - loss: 2.2841 - accuracy: 0.4027 - val_loss: 2.2835 - val_accuracy: 0.4028\n",
      "Epoch 54/100\n",
      "2405/2405 [==============================] - 3s 1ms/step - loss: 2.2839 - accuracy: 0.4019 - val_loss: 2.2797 - val_accuracy: 0.4055\n",
      "Epoch 55/100\n",
      "2405/2405 [==============================] - 3s 1ms/step - loss: 2.2834 - accuracy: 0.4024 - val_loss: 2.2805 - val_accuracy: 0.4066\n",
      "Epoch 56/100\n",
      "2405/2405 [==============================] - 3s 1ms/step - loss: 2.2835 - accuracy: 0.4025 - val_loss: 2.2795 - val_accuracy: 0.4059\n",
      "Epoch 57/100\n",
      "2405/2405 [==============================] - 3s 1ms/step - loss: 2.2825 - accuracy: 0.4038 - val_loss: 2.2820 - val_accuracy: 0.4037\n",
      "Epoch 58/100\n",
      "2405/2405 [==============================] - 3s 1ms/step - loss: 2.2832 - accuracy: 0.4026 - val_loss: 2.2808 - val_accuracy: 0.4053\n",
      "Epoch 59/100\n",
      "2405/2405 [==============================] - 3s 1ms/step - loss: 2.2826 - accuracy: 0.4033 - val_loss: 2.2812 - val_accuracy: 0.4047\n",
      "Epoch 60/100\n",
      "2405/2405 [==============================] - 3s 1ms/step - loss: 2.2833 - accuracy: 0.4029 - val_loss: 2.2802 - val_accuracy: 0.4061\n",
      "Epoch 61/100\n",
      "2405/2405 [==============================] - 4s 2ms/step - loss: 2.2826 - accuracy: 0.4035 - val_loss: 2.2879 - val_accuracy: 0.3992\n",
      "Epoch 62/100\n",
      "2405/2405 [==============================] - 3s 1ms/step - loss: 2.2824 - accuracy: 0.4038 - val_loss: 2.2822 - val_accuracy: 0.4047\n",
      "Epoch 63/100\n",
      "2405/2405 [==============================] - 3s 1ms/step - loss: 2.2825 - accuracy: 0.4033 - val_loss: 2.2808 - val_accuracy: 0.4049\n",
      "Epoch 64/100\n",
      "2405/2405 [==============================] - 3s 1ms/step - loss: 2.2819 - accuracy: 0.4045 - val_loss: 2.2817 - val_accuracy: 0.4040\n",
      "Epoch 65/100\n",
      "2405/2405 [==============================] - 3s 1ms/step - loss: 2.2826 - accuracy: 0.4042 - val_loss: 2.2816 - val_accuracy: 0.4047\n",
      "Epoch 66/100\n",
      "2405/2405 [==============================] - 3s 1ms/step - loss: 2.2821 - accuracy: 0.4039 - val_loss: 2.2848 - val_accuracy: 0.4013\n",
      "Epoch 67/100\n",
      "2405/2405 [==============================] - 3s 1ms/step - loss: 2.2815 - accuracy: 0.4047 - val_loss: 2.2831 - val_accuracy: 0.4027\n",
      "Epoch 68/100\n",
      "2405/2405 [==============================] - 3s 1ms/step - loss: 2.2820 - accuracy: 0.4038 - val_loss: 2.2821 - val_accuracy: 0.4041\n",
      "Epoch 69/100\n",
      "2405/2405 [==============================] - 3s 1ms/step - loss: 2.2819 - accuracy: 0.4043 - val_loss: 2.2810 - val_accuracy: 0.4049\n",
      "Epoch 70/100\n",
      "2405/2405 [==============================] - 3s 1ms/step - loss: 2.2822 - accuracy: 0.4036 - val_loss: 2.2811 - val_accuracy: 0.4050\n",
      "Epoch 71/100\n",
      "2405/2405 [==============================] - 3s 1ms/step - loss: 2.2815 - accuracy: 0.4050 - val_loss: 2.2788 - val_accuracy: 0.4064\n",
      "Epoch 72/100\n",
      "2405/2405 [==============================] - 3s 1ms/step - loss: 2.2818 - accuracy: 0.4045 - val_loss: 2.2790 - val_accuracy: 0.4071\n",
      "Epoch 73/100\n",
      "2405/2405 [==============================] - 4s 2ms/step - loss: 2.2816 - accuracy: 0.4042 - val_loss: 2.2795 - val_accuracy: 0.4064\n",
      "Epoch 74/100\n",
      "2405/2405 [==============================] - 3s 1ms/step - loss: 2.2806 - accuracy: 0.4058 - val_loss: 2.2819 - val_accuracy: 0.4043\n",
      "Epoch 75/100\n",
      "2405/2405 [==============================] - 3s 1ms/step - loss: 2.2810 - accuracy: 0.4055 - val_loss: 2.2810 - val_accuracy: 0.4051\n",
      "Epoch 76/100\n",
      "2405/2405 [==============================] - 3s 1ms/step - loss: 2.2823 - accuracy: 0.4036 - val_loss: 2.2789 - val_accuracy: 0.4082\n",
      "Epoch 77/100\n",
      "2405/2405 [==============================] - 3s 1ms/step - loss: 2.2811 - accuracy: 0.4049 - val_loss: 2.2794 - val_accuracy: 0.4062\n",
      "Epoch 78/100\n",
      "2405/2405 [==============================] - 3s 1ms/step - loss: 2.2810 - accuracy: 0.4051 - val_loss: 2.2853 - val_accuracy: 0.4017\n",
      "Epoch 79/100\n",
      "2405/2405 [==============================] - 3s 1ms/step - loss: 2.2811 - accuracy: 0.4046 - val_loss: 2.2812 - val_accuracy: 0.4046\n",
      "Epoch 80/100\n",
      "2405/2405 [==============================] - 3s 1ms/step - loss: 2.2808 - accuracy: 0.4054 - val_loss: 2.2815 - val_accuracy: 0.4046\n",
      "Epoch 81/100\n",
      "2405/2405 [==============================] - 3s 1ms/step - loss: 2.2815 - accuracy: 0.4054 - val_loss: 2.2790 - val_accuracy: 0.4069\n",
      "Epoch 82/100\n",
      "2405/2405 [==============================] - 4s 2ms/step - loss: 2.2815 - accuracy: 0.4044 - val_loss: 2.2793 - val_accuracy: 0.4065\n",
      "Epoch 83/100\n",
      "2405/2405 [==============================] - 3s 1ms/step - loss: 2.2808 - accuracy: 0.4053 - val_loss: 2.2804 - val_accuracy: 0.4055\n",
      "Epoch 84/100\n",
      "2405/2405 [==============================] - 3s 1ms/step - loss: 2.2801 - accuracy: 0.4065 - val_loss: 2.2837 - val_accuracy: 0.4019\n",
      "Epoch 85/100\n",
      "2405/2405 [==============================] - 3s 1ms/step - loss: 2.2812 - accuracy: 0.4047 - val_loss: 2.2821 - val_accuracy: 0.4037\n",
      "Epoch 86/100\n",
      "2405/2405 [==============================] - 3s 1ms/step - loss: 2.2811 - accuracy: 0.4051 - val_loss: 2.2785 - val_accuracy: 0.4068\n",
      "Epoch 87/100\n",
      "2405/2405 [==============================] - 3s 1ms/step - loss: 2.2808 - accuracy: 0.4050 - val_loss: 2.2794 - val_accuracy: 0.4066\n",
      "Epoch 88/100\n",
      "2405/2405 [==============================] - 3s 1ms/step - loss: 2.2812 - accuracy: 0.4045 - val_loss: 2.2775 - val_accuracy: 0.4089\n",
      "Epoch 89/100\n",
      "2405/2405 [==============================] - 3s 1ms/step - loss: 2.2806 - accuracy: 0.4058 - val_loss: 2.2780 - val_accuracy: 0.4095\n",
      "Epoch 90/100\n",
      "2405/2405 [==============================] - 3s 1ms/step - loss: 2.2801 - accuracy: 0.4059 - val_loss: 2.2775 - val_accuracy: 0.4089\n",
      "Epoch 91/100\n",
      "2405/2405 [==============================] - 3s 1ms/step - loss: 2.2795 - accuracy: 0.4065 - val_loss: 2.2828 - val_accuracy: 0.4029\n",
      "Epoch 92/100\n",
      "2405/2405 [==============================] - 3s 1ms/step - loss: 2.2801 - accuracy: 0.4062 - val_loss: 2.2865 - val_accuracy: 0.3998\n",
      "Epoch 93/100\n",
      "2405/2405 [==============================] - 3s 1ms/step - loss: 2.2797 - accuracy: 0.4064 - val_loss: 2.2820 - val_accuracy: 0.4042\n",
      "Epoch 94/100\n",
      "2405/2405 [==============================] - 3s 1ms/step - loss: 2.2804 - accuracy: 0.4054 - val_loss: 2.2807 - val_accuracy: 0.4061\n",
      "Epoch 95/100\n",
      "2405/2405 [==============================] - 3s 1ms/step - loss: 2.2801 - accuracy: 0.4059 - val_loss: 2.2826 - val_accuracy: 0.4023\n",
      "Epoch 96/100\n",
      "2405/2405 [==============================] - 3s 1ms/step - loss: 2.2798 - accuracy: 0.4062 - val_loss: 2.2808 - val_accuracy: 0.4053\n",
      "Epoch 97/100\n",
      "2405/2405 [==============================] - 3s 1ms/step - loss: 2.2807 - accuracy: 0.4056 - val_loss: 2.2778 - val_accuracy: 0.4094\n",
      "Epoch 98/100\n",
      "2405/2405 [==============================] - 3s 1ms/step - loss: 2.2798 - accuracy: 0.4068 - val_loss: 2.2790 - val_accuracy: 0.4064\n",
      "Epoch 99/100\n",
      "2405/2405 [==============================] - 3s 1ms/step - loss: 2.2804 - accuracy: 0.4055 - val_loss: 2.2803 - val_accuracy: 0.4055\n",
      "Epoch 100/100\n",
      "2405/2405 [==============================] - 3s 1ms/step - loss: 2.2800 - accuracy: 0.4063 - val_loss: 2.2964 - val_accuracy: 0.3905\n"
     ]
    }
   ],
   "source": [
    "model.compile(optimizer='adam',\n",
    "               loss=tf.keras.losses.SparseCategoricalCrossentropy(from_logits=True),\n",
    "               metrics=['accuracy'])\n",
    "\n",
    "history = model.fit(X_train,\n",
    "                    y_train,\n",
    "                    epochs = 100,\n",
    "                    validation_data = (X_test, y_test))"
   ]
  },
  {
   "cell_type": "code",
   "execution_count": 6,
   "metadata": {},
   "outputs": [],
   "source": [
    "def invert(dictionary):\n",
    "    return {v: k for k, v in dictionary.items()}"
   ]
  },
  {
   "cell_type": "code",
   "execution_count": 7,
   "metadata": {},
   "outputs": [],
   "source": [
    "AGE = {1 : \"0-11 years\", 2 : \"12-14 years\", 3 : \"15-17 years\", 4 : \"18-20 years\",\n",
    "       5 : \"21-24 years\", 6 : \"25-29 years\", 7 : \"30-34 years\", 8 : \"35-39 years\",\n",
    "       9 : \"40-44 years\", 10 : \"45-49 years\", 11 : \"50-54 years\",\n",
    "       12 : \"55-59 years\", 13 : \"60-64 years\", 14 : \"65 years and older\"}\n",
    "AGE = invert(AGE)\n",
    "EDUC = {1 : \"Special education\", 2 : \"0 to 8\", 3 :\"9 to 11\", 4 :\"12 (or GED)\",\n",
    "        5 :\"More than 12\"}\n",
    "EDUC = invert(EDUC)\n",
    "ETHNIC = {1 : \"Mexican\", 2 : \"Puerto Rican\",\n",
    "          3 : \"Other Hispanic or Latino origin\",\n",
    "          4 : \"Not of Hispanic or Latino origin\"}\n",
    "ETHNIC = invert(ETHNIC)\n",
    "RACE = {1 : \"American Indian/Alaska Native\", 2 : \"Asian\",\n",
    "        3 : \"Black or African American\",\n",
    "        4 : \"Native Hawaiian or Other Pacific Islander\", 5 : \"White\",\n",
    "        6 : \"Some other race alone/two or more races \"}\n",
    "RACE = invert(RACE)\n",
    "GENDER = {1 : \"Male\", 2 : \"Female\"}\n",
    "GENDER = invert(GENDER)\n",
    "SPHSERVICE = {1 : \"Served in a state psychiatric hospital\",\n",
    "              2 : \"Not served in a state psychiatric hospital\"}\n",
    "SPHSERVICE = invert(SPHSERVICE)\n",
    "CMPSERVICE = {1 : \"Served in SMHA-funded/operated community-based program\",\n",
    "              2 : \"Not served in SMHA-funded/operated community-based program\"}\n",
    "CMPSERVICE = invert(CMPSERVICE)\n",
    "OPISERVICE = {1 : \"Served in 'other psychiatric inpatient center'\",\n",
    "              2 : \"Not served in 'other psychiatric inpatient center'\"}\n",
    "OPISERVICE = invert(OPISERVICE)\n",
    "RTCSERVICE = {1 : \"Served in a residential treatment center\",\n",
    "              2 : \"Not served in a residential treatment center\"}\n",
    "RTCSERVICE = invert(RTCSERVICE)\n",
    "IJSSERVICE = {1 : \"Served by an institution under the justice system\",\n",
    "              2 : \"Not served by any institution under the justice system\"}\n",
    "IJSSERVICE = invert(IJSSERVICE)\n",
    "SUB = {1  : \"Alcohol-induced disorder\", 2  : \"Alcohol intoxication\",\n",
    "       3  : \"Substance-induced disorder\", 4  : \"Alcohol dependence\",\n",
    "       5  : \"Cocaine dependence\", 6  : \"Cannabis dependence\",\n",
    "       7  : \"Opioid dependence\", 8  : \"Other substance dependence\",\n",
    "       9  : \"Alcohol abuse\", 10 : \"Cocaine abuse\", 11 : \"Cannabis abuse\",\n",
    "       12 : \"Opioid abuse\", 13 : \"Other substance related conditions\"}\n",
    "SUB = invert(SUB)\n",
    "MARSTAT = {1 : \"Never married\", 2 : \"Now married\", 3 : \"Separated\",\n",
    "           4 : \"Divorced, widowed\"}\n",
    "MARSTAT = invert(MARSTAT)\n",
    "SMISED = {1 : \"SMI\", 2 : \"SED and/or at risk for SED\", 3 : \"Not SMI/SED\"}\n",
    "SMISED = invert(SMISED)\n",
    "SAP = {1 :\"Yes\", 2 :\"No\"}\n",
    "SAP = invert(SAP)\n",
    "EMPLOY = {1 : \"Full-time\", 2 : \"Part-time\",\n",
    "          3 : \"Employed full-time/part-time not differentiated\",\n",
    "          4 : \"Unemployed\", 5 : \"Not in labor force\"}\n",
    "EMPLOY = invert(EMPLOY)\n",
    "DETNLF = {1 : \"Retired, disabled\", 2 : \"Student\", 3 : \"Homemaker\",\n",
    "          4 : \"Sheltered/non-competitive employment\", 5 : \"Other\"}\n",
    "DETNLF = invert(DETNLF)\n",
    "VETERAN = {1 :\"Yes\", 2 :\"No\"}\n",
    "VETERAN = invert(VETERAN)\n",
    "LIVARAG = {1 : \"Homeless\", 2 : \"Private residence\", 3 : \"Other\"}\n",
    "LIVARAG = invert(LIVARAG)\n",
    "STATEFIP = {1 :'Alabama', 2 :'Alaska', 4 :'Arizona', 5 :'Arkansas',\n",
    "            6 :'California', 8 :'Colorado', 9 :'Connecticut', 10 :'Delaware',\n",
    "            11 :'District of Columbia', 12 :'Florida', 13 :'Georgia',\n",
    "            15 :'Hawaii', 16 :'Idaho', 17 :'Illinois', 18 :'Indiana',\n",
    "            19 :'Iowa', 20 :'Kansas', 21 :'Kentucky', 22 :'Louisiana',\n",
    "            23 :'Maine', 24 :'Maryland', 25 :'Massachusetts', 26 :'Michigan',\n",
    "            27 :'Minnesota', 28 :'Mississippi', 29 :'Missouri', 30 :'Montana',\n",
    "            31 :'Nebraska', 32 :'Nevada', 33 :'New Hampshire', 34 :'New Jersey',\n",
    "            35 :'New Mexico', 36 :'New York', 37 :'North Carolina',\n",
    "            38 :'North Dakota', 39 :'Ohio', 40 :'Oklahoma', 41 :'Oregon',\n",
    "            42 :'Pennsylvania', 44 :'Rhode Island', 45 :'South Carolina',\n",
    "            46 :'South Dakota', 47 :'Tennessee', 48 :'Texas', 49 :'Utah',\n",
    "            50 :'Vermont', 51 :'Virginia', 53 :'Washington',\n",
    "            54 :'West Virginia', 55 :'Wisconsin', 56 :'Wyoming',\n",
    "            72 :'Puerto Rico', 99 :'Other jurisdictions'}\n",
    "STATEFIP = invert(STATEFIP)\n",
    "MH1 = {1 : 'Trauma- and stressor-related disorders',\n",
    "       2 : 'Anxiety disorders',\n",
    "       3 : 'Attention deficit/hyperactivity disorder (ADHD)',\n",
    "       4 : 'Conduct disorders',\n",
    "       5 : 'Delirium, dementia',\n",
    "       6 : 'Bipolar disorders',\n",
    "       7 : 'Depressive disorders',\n",
    "       8 : 'Oppositional defiant disorders',\n",
    "       9 : 'Pervasive developmental disorders',\n",
    "       10 : 'Personality disorders',\n",
    "       11 : 'Schizophrenia or other psychotic disorders',\n",
    "       12 : 'Alcohol or substance use disorders',\n",
    "       13 : 'Other disorders/conditions'}"
   ]
  },
  {
   "cell_type": "code",
   "execution_count": 8,
   "metadata": {},
   "outputs": [
    {
     "name": "stdout",
     "output_type": "stream",
     "text": [
      "Depressive disorders\n"
     ]
    }
   ],
   "source": [
    "from pywebio.output import *\n",
    "from pywebio.input import * \n",
    "import time\n",
    "\n",
    "put_markdown('# Mental Health Diagnosis Survey')\n",
    "\n",
    "put_text(\"Please answer the following questions for a mental health diagnosis prediction.\")\n",
    "\n",
    "\n",
    "selections = input_group('Please answer the following questions',\n",
    "                         [select(label = 'Age Group', options = AGE.keys(), name = 'age'),\n",
    "                          select(label = 'Education', options = EDUC.keys(), name = 'education'),\n",
    "                          select(label = 'Ethnicity', options = ETHNIC.keys(), name = 'ethnicity'),\n",
    "                          select(label = 'Race', options = RACE.keys(), name = 'race'),\n",
    "                          select(label = 'Gender', options = GENDER.keys(), name = 'gender'),\n",
    "                          select(label = 'State psychiatric hospital services', options = SPHSERVICE.keys(), name = 'sph'),\n",
    "                          select(label = 'SMHA-funded/operated community-based program', options = CMPSERVICE.keys(), name = 'cmp'),\n",
    "                          select(label = 'Other psychiatric inpatient', options = OPISERVICE.keys(), name = 'opi'),\n",
    "                          select(label = 'Residential treatment center', options = RTCSERVICE.keys(), name = 'rtc'),\n",
    "                          select(label = 'Institutions under the justice system', options = IJSSERVICE.keys(), name = 'ijs'),\n",
    "                          select(label = 'Substance use diagnosis', options = SUB.keys(), name = 'sub'),\n",
    "                          select(label = 'Marital status', options = MARSTAT.keys(), name = 'marriage'),\n",
    "                          select(label = 'SMI/SED status', options = SMISED.keys(), name = 'smi'),\n",
    "                          select(label = 'Substance use problem', options = SAP.keys(), name = 'sap'),\n",
    "                          select(label = 'Employment status', options = EMPLOY.keys(), name = 'employment'),\n",
    "                          select(label = 'Detailed \\'not in labor force\\' category', options = DETNLF.keys(), name = 'detnlf'),\n",
    "                          select(label = 'Veteran status', options = VETERAN.keys(), name = 'veteran'),\n",
    "                          select(label = 'Residential status', options = LIVARAG.keys(), name = 'res'),\n",
    "                          select(label = 'State', options = STATEFIP.keys(), name = 'state'),\n",
    "])\n",
    "\n",
    "put_text(\"Please wait until we make our predictions!\")\n",
    "\n",
    "input_ = np.array([[AGE[selections['age']], EDUC[selections['education']], ETHNIC[selections['ethnicity']],\n",
    "                    RACE[selections['race']], GENDER[selections['gender']], SPHSERVICE[selections['sph']],\n",
    "                    CMPSERVICE[selections['cmp']], OPISERVICE[selections['opi']], RTCSERVICE[selections['rtc']],\n",
    "                    IJSSERVICE[selections['ijs']], SUB[selections['sub']], MARSTAT[selections['marriage']],\n",
    "                    SMISED[selections['smi']], SAP[selections['sap']], EMPLOY[selections['employment']],\n",
    "                    DETNLF[selections['detnlf']], VETERAN[selections['veteran']], LIVARAG[selections['res']],\n",
    "                    STATEFIP[selections['state']]]])\n",
    "q = model.predict(input_)\n",
    "prediction = np.argmax(q,axis=1)[0] + 1\n",
    "\n",
    "put_processbar('bar')\n",
    "for i in range(1, 11):\n",
    "    set_processbar('bar', i / 10)\n",
    "    time.sleep(0.1)\n",
    "p = MH1[prediction]\n",
    "put_markdown(\"Here is our prediction: %s\" % p)"
   ]
  }
 ],
 "metadata": {
  "kernelspec": {
   "display_name": "Python 3 (ipykernel)",
   "language": "python",
   "name": "python3"
  },
  "language_info": {
   "codemirror_mode": {
    "name": "ipython",
    "version": 3
   },
   "file_extension": ".py",
   "mimetype": "text/x-python",
   "name": "python",
   "nbconvert_exporter": "python",
   "pygments_lexer": "ipython3",
   "version": "3.7.12"
  }
 },
 "nbformat": 4,
 "nbformat_minor": 4
}
